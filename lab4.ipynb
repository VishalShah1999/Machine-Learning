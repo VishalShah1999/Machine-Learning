{
  "cells": [
    {
      "cell_type": "markdown",
      "metadata": {
        "id": "view-in-github",
        "colab_type": "text"
      },
      "source": [
        "<a href=\"https://colab.research.google.com/github/VishalShah1999/Machine-Learning/blob/main/lab4.ipynb\" target=\"_parent\"><img src=\"https://colab.research.google.com/assets/colab-badge.svg\" alt=\"Open In Colab\"/></a>"
      ]
    },
    {
      "cell_type": "markdown",
      "metadata": {
        "id": "YLSs1Eby_pPk"
      },
      "source": [
        "# The SVM vs. Logistic Regression Showdown\n",
        "\n",
        "In this lab, you will practice working with non-linear kernels combined with logistic regression and SVM classifiers. The goal is to compare these commonly used techniques. Which comes out on top in terms of accuracy? Runtime? Is there much of a difference at all? Is the dominance of the SVM classifier in machine learning pedagogy justified? "
      ]
    },
    {
      "cell_type": "markdown",
      "metadata": {
        "id": "Msj5mwJs_pPl"
      },
      "source": [
        "## Loading the Data\n",
        "\n",
        "First, we load all the packages we'll need."
      ]
    },
    {
      "cell_type": "code",
      "execution_count": 23,
      "metadata": {
        "id": "5TKE1o5c_pPm"
      },
      "outputs": [],
      "source": [
        "import numpy as np\n",
        "import matplotlib\n",
        "import matplotlib.pyplot as plt\n",
        "%matplotlib inline\n",
        "from sklearn.metrics.pairwise import pairwise_kernels\n",
        "import scipy\n",
        "from sklearn import svm, linear_model\n",
        "from sklearn.model_selection import GridSearchCV\n",
        "import time"
      ]
    },
    {
      "cell_type": "markdown",
      "metadata": {
        "id": "L58cF4Cy_pPn"
      },
      "source": [
        "Again we download the data from the Tensorflow package, which you will need to install.  You can get the data from other sources as well. \n",
        "\n",
        "In the Tensorflow dataset, the training and test data are represented as arrays:\n",
        "\n",
        "     Xtr.shape = 60000 x 28 x 28\n",
        "     Xts.shape = 10000 x 28 x 28\n",
        "     \n",
        "The test data consists of `60000` images of size `28 x 28` pixels; the test data consists of `10000` images."
      ]
    },
    {
      "cell_type": "code",
      "execution_count": 24,
      "metadata": {
        "id": "Pigfivuh_pPn",
        "outputId": "8f91f141-8634-4788-c88e-21996f3982cb",
        "colab": {
          "base_uri": "https://localhost:8080/"
        }
      },
      "outputs": [
        {
          "output_type": "stream",
          "name": "stdout",
          "text": [
            "Xtr shape: (60000, 28, 28)\n",
            "Xts shape: (10000, 28, 28)\n"
          ]
        }
      ],
      "source": [
        "import tensorflow as tf\n",
        "\n",
        "(Xtr_raw,ytr),(Xts_raw,yts) = tf.keras.datasets.mnist.load_data()\n",
        "\n",
        "print('Xtr shape: %s' % str(Xtr_raw.shape))\n",
        "print('Xts shape: %s' % str(Xts_raw.shape))\n",
        "\n",
        "ntr = Xtr_raw.shape[0]\n",
        "nts = Xts_raw.shape[0]\n",
        "nrow = Xtr_raw.shape[1]\n",
        "ncol = Xtr_raw.shape[2]"
      ]
    },
    {
      "cell_type": "markdown",
      "metadata": {
        "id": "BgE5TO4b_pPo"
      },
      "source": [
        "Each pixel value is from `[0,255]`.  For this lab, it will be convenient to recale the value to -1 to 1 and reshape it as a `ntr x npix` and `nts x npix`."
      ]
    },
    {
      "cell_type": "code",
      "execution_count": 25,
      "metadata": {
        "id": "QE-50PdU_pPo"
      },
      "outputs": [],
      "source": [
        "npix = nrow*ncol\n",
        "Xtr = (Xtr_raw/255 - 0.5)\n",
        "Xtr = Xtr.reshape((ntr,npix))\n",
        "\n",
        "Xts = (Xts_raw/255 - 0.5)\n",
        "Xts = Xts.reshape((nts,npix))"
      ]
    },
    {
      "cell_type": "markdown",
      "metadata": {
        "id": "frhehbKs_pPo"
      },
      "source": [
        "For this lab we're only going to use a fraction of the MNIST data -- otherwise our models will take too much time and memory to run. Using only part of the training data will of course lead to worse results. Given enough computational resources and time, we would ideally be running on the full data set. The follow code creates a new test and train set, with 10000 examples for train and 5000 for test. "
      ]
    },
    {
      "cell_type": "code",
      "execution_count": 26,
      "metadata": {
        "id": "cUHbBwL1_pPp"
      },
      "outputs": [],
      "source": [
        "ntr1 = 10000\n",
        "nts1 = 5000\n",
        "Iperm = np.random.permutation(ntr1)\n",
        "Xtr1 = Xtr[Iperm[:ntr1],:]\n",
        "ytr1 = ytr[Iperm[:ntr1]]\n",
        "Iperm = np.random.permutation(nts1)\n",
        "Xts1 = Xts[Iperm[:nts1],:]\n",
        "yts1 = yts[Iperm[:nts1]]"
      ]
    },
    {
      "cell_type": "markdown",
      "metadata": {
        "id": "mlz6g-X8_pPq"
      },
      "source": [
        "## Problem set up and establishing a baseline"
      ]
    },
    {
      "cell_type": "markdown",
      "metadata": {
        "id": "T90pjHcr_pPq"
      },
      "source": [
        "To simplify the problem (and speed things up) we're also going to restrict to binary classification. In particular, let's try to design classifier a that separates the 8's from all other digits.\n",
        "\n",
        "Create binary 0/1 label vectors `ytr8` and `yts8` which are 1 wherever `ytr1` and `yts1` equal 8, and 0 everywhere else."
      ]
    },
    {
      "cell_type": "code",
      "execution_count": 27,
      "metadata": {
        "id": "q6Flo-KS_pPq"
      },
      "outputs": [],
      "source": [
        "# TODO\n",
        "ytr8 = np.array([1 if i == '8' else 0 for i in ytr1])\n",
        "yts8 = np.array([1 if i == '8' else 0 for i in yts1])"
      ]
    },
    {
      "cell_type": "markdown",
      "metadata": {
        "id": "UdT2KGyj_pPr"
      },
      "source": [
        "Most of the digits in the test dataset aren't equal to 8. So if we simply guess 0 for every image in `Xts`, we might expect to get classification accuracy around 90%. Our goal should be to significantly beat this **baseline**. \n",
        "\n",
        "Formally, write a few lines of code to check what test error would be achieved by the all zeros classifier."
      ]
    },
    {
      "cell_type": "code",
      "execution_count": 29,
      "metadata": {
        "id": "3JweYada_pPr",
        "outputId": "3ac4d697-5cba-4feb-84e4-115c76400ef4",
        "colab": {
          "base_uri": "https://localhost:8080/"
        }
      },
      "outputs": [
        {
          "output_type": "stream",
          "name": "stdout",
          "text": [
            "Accuaracy = 1.000000\n"
          ]
        }
      ],
      "source": [
        "# TODO\n",
        "from sklearn.metrics import accuracy_score\n",
        "y_pred8 = np.array([0 for i in Xts1])\n",
        "acc = accuracy_score(yts8, y_pred8)\n",
        "print('Accuaracy = {0:f}'.format(acc))"
      ]
    },
    {
      "cell_type": "markdown",
      "metadata": {
        "id": "oz_7u10V_pPr"
      },
      "source": [
        "As a second baseline, let's see how we do with standard (non-kernel) logistic regression. As in the MNIST demo, you can use `scikit-learn`'s built in function `linear_model.LogisticRegression` to fit the model and compute the accuracy. Use no regularization and the `lbfgs` solver. You should acheive an improvement to around 93-95%."
      ]
    },
    {
      "cell_type": "code",
      "execution_count": 41,
      "metadata": {
        "id": "oocR_r9C_pPr",
        "outputId": "84b2356c-92ff-4c6f-97c4-4faa20484b53",
        "colab": {
          "base_uri": "https://localhost:8080/"
        }
      },
      "outputs": [
        {
          "output_type": "stream",
          "name": "stderr",
          "text": [
            "[Parallel(n_jobs=1)]: Using backend SequentialBackend with 1 concurrent workers.\n"
          ]
        },
        {
          "output_type": "stream",
          "name": "stdout",
          "text": [
            "Logistic Regression Accuaracy = 0.882800\n"
          ]
        },
        {
          "output_type": "stream",
          "name": "stderr",
          "text": [
            "/usr/local/lib/python3.7/dist-packages/sklearn/linear_model/_logistic.py:818: ConvergenceWarning: lbfgs failed to converge (status=1):\n",
            "STOP: TOTAL NO. of ITERATIONS REACHED LIMIT.\n",
            "\n",
            "Increase the number of iterations (max_iter) or scale the data as shown in:\n",
            "    https://scikit-learn.org/stable/modules/preprocessing.html\n",
            "Please also refer to the documentation for alternative solver options:\n",
            "    https://scikit-learn.org/stable/modules/linear_model.html#logistic-regression\n",
            "  extra_warning_msg=_LOGISTIC_SOLVER_CONVERGENCE_MSG,\n",
            "[Parallel(n_jobs=1)]: Done   1 out of   1 | elapsed:    9.4s remaining:    0.0s\n",
            "[Parallel(n_jobs=1)]: Done   1 out of   1 | elapsed:    9.4s finished\n"
          ]
        }
      ],
      "source": [
        "# TODO\n",
        "from sklearn import linear_model\n",
        "logreg = linear_model.LogisticRegression(verbose=10, solver='lbfgs', max_iter=40)\n",
        "logreg.fit(Xtr1,ytr1)\n",
        "yhat = logreg.predict(Xts1)\n",
        "acc = np.mean(yhat == yts1)\n",
        "print('Logistic Regression Accuaracy = {0:f}'.format(acc))"
      ]
    },
    {
      "cell_type": "markdown",
      "metadata": {
        "id": "aXuJVilo_pPr"
      },
      "source": [
        "## Kernel Logistic Regression\n",
        "\n",
        "To improve on this baseline performance, let's try using the logistic regression classifier with a *non-linear* kernel. Recall from class that any non-linear kernel similarity function $k(\\vec{w},\\vec{z})$ is equal to $\\phi(\\vec{w})^T\\phi(\\vec{z})$ for some feature transformation $\\phi$. However, we typically do not need to compute this feature tranformation explicitly: instead we can work directly with the kernel gram matrix $K \\in \\mathbb{R}^{n\\times n}$. Recall that $K_{i,j} = k(\\vec{x}_i,\\vec{x}_j)$ where $\\vec{x}_i$ is the $i^\\text{th}$ training data point. \n",
        "\n",
        "For this lab we will be using the radial basis function kernel. For a given scaling factor $\\gamma$ this kernel is defined as:\n",
        "$$\n",
        "k(\\vec{w},\\vec{z}) = e^{-\\gamma\\|\\vec{w}-\\vec{z}\\|_2^2}\n",
        "$$"
      ]
    },
    {
      "cell_type": "code",
      "execution_count": null,
      "metadata": {
        "id": "q8znIoWi_pPs"
      },
      "outputs": [],
      "source": [
        "def rbf_kernel(w,z,gamma):\n",
        "    d = w - z\n",
        "    return np.exp(-gamma*np.sum(d*d))"
      ]
    },
    {
      "cell_type": "markdown",
      "metadata": {
        "id": "1WFi15JF_pPs"
      },
      "source": [
        "Construct the kernel matrix `K1` for `Xtr1` with `gamma = .05`."
      ]
    },
    {
      "cell_type": "code",
      "execution_count": null,
      "metadata": {
        "id": "9PBzA-5__pPs"
      },
      "outputs": [],
      "source": [
        "# TODO\n",
        "gamma = .05\n",
        "K1 = rbf_kernel()"
      ]
    },
    {
      "cell_type": "markdown",
      "metadata": {
        "id": "wB_X-JOR_pPs"
      },
      "source": [
        "If you used a for loop (which is fine) your code might take several minutes to run! Part of the issue is that Python won't know to properly parallize your for loop. For this reason, when constructing kernel matrices it is often faster to us a built-in, carefully optimized function with explicit parallelization. Scikit learn provides such a function through their `metrics` library. \n",
        "\n",
        "Referring to the documentation here\n",
        "https://scikit-learn.org/stable/modules/metrics.html#metrics, use this built in function to recreate the same kernel matrix you did above. Store the result at `K`."
      ]
    },
    {
      "cell_type": "code",
      "execution_count": null,
      "metadata": {
        "id": "Nhd-xFsn_pPt"
      },
      "outputs": [],
      "source": [
        "# TODO\n",
        "# K = "
      ]
    },
    {
      "cell_type": "markdown",
      "metadata": {
        "id": "CO9CnBbN_pPt"
      },
      "source": [
        "Check that you used the function correctly by writing code to confirm that `K = K1`, or at least that the two are equal up to very small differences (which could arise due to numerical precision issues). Try to do this **without a for loop** for full credit. You will get partial credit if you use a for loop."
      ]
    },
    {
      "cell_type": "code",
      "execution_count": null,
      "metadata": {
        "id": "SCOfrRRD_pPt"
      },
      "outputs": [],
      "source": [
        "# TODO"
      ]
    },
    {
      "cell_type": "markdown",
      "metadata": {
        "id": "jrIT1xJL_pPt"
      },
      "source": [
        "When using a non-linear kernel, it is important to check that you have chosen reasonable parameters (in our case the only parameter is `gamma`). We typically do not want $k(\\vec{x}_i,\\vec{x}_j)$ to be either negligably small, or very large for all $i\\neq j$ in our data set, or we won't be able to learn anything. For the RBF kernel this means that, for any $\\vec{x}_i$ we don't want $k(\\vec{x}_i,\\vec{x}_j)$ very close to 1 (e.g. .9999) for all $j$, or very close to $0$ (e.g. 1e-8) for all $j$. \n",
        "\n",
        "Let's just check that we're in good shape for the first data vector $\\vec{x}_0$. Do so by printing out the 10 largest and 10 smallest values of $k(\\vec{x}_0,\\vec{x}_j)$ for $j\\neq 0$. Note that we always have $k(\\vec{x}_0,\\vec{x}_0) = 1$ for the RBF kernel. "
      ]
    },
    {
      "cell_type": "code",
      "execution_count": null,
      "metadata": {
        "id": "z2yZ-vdt_pPt"
      },
      "outputs": [],
      "source": [
        "# TODO\n",
        "# print('Maximum similarities: \\n' + ...)\n",
        "# print('Minimum similarities: \\n' + ...)"
      ]
    },
    {
      "cell_type": "markdown",
      "metadata": {
        "id": "B0Vfxdfu_pPu"
      },
      "source": [
        "### Implementation\n",
        "Maybe surprisingly Scikit learn does not have an implementation for kernel logistic regression. So we have to implement our own!\n",
        "\n",
        "Write a function function `log_fit` that minimizes the $\\ell_2$-regularized logisitic regression loss:\n",
        "$$\n",
        "L(\\boldsymbol{\\alpha}) =\\sum_{i=1}^n (1-y_i)(\\phi(\\mathbf{x}_i)^T\\phi(\\mathbf{X})^T\\vec{\\alpha}) - \\log(h(\\phi(\\mathbf{x}_i)^T\\phi(\\mathbf{X})^T\\boldsymbol{\\alpha}) + \\lambda \\|\\phi(\\mathbf{X})^T\\boldsymbol{\\alpha}\\|_2^2.\n",
        "$$\n",
        "As input it takes an $n\\times n$ kernel matrix $K$ for the training data, an $n$ length vector `y` of binary class labels, and regularization parameter `lamb`.\n",
        "\n",
        "To implement your function you can either use your own implmentation of gradient descent or used a built in minimizer from `scipy.optimize.minimize`. I recommend the later approach: as we saw in the last lab, gradient descent can converge slowly for this objective."
      ]
    },
    {
      "cell_type": "code",
      "execution_count": null,
      "metadata": {
        "id": "jbG3rpY7_pPu"
      },
      "outputs": [],
      "source": [
        "# TODO\n",
        "# def log_fit(K,y,lamb,nit=1000):\n",
        "#    Function which minizes the regularized logistic regression loss for a given kernel matrix K and target vector y\n",
        "#    Return the optimal parameters alpha of the logisitic regression model."
      ]
    },
    {
      "cell_type": "markdown",
      "source": [
        "Use the `log_fit` function defined above to find parameters `alpha` for the kernel logistic regression model using `lamb = 0` and `K` as constructed above (with `gamma = .05`). "
      ],
      "metadata": {
        "id": "PC4MZYmXMAmY"
      }
    },
    {
      "cell_type": "code",
      "source": [
        "# TODO\n",
        "# alpha ="
      ],
      "metadata": {
        "id": "bNW1cYbjMBwj"
      },
      "execution_count": null,
      "outputs": []
    },
    {
      "cell_type": "markdown",
      "metadata": {
        "id": "VZXI3kz2_pPu"
      },
      "source": [
        "Suppose we have a test dataset with $m$ examples $\\vec{w}_1,\\ldots, \\vec{w}_m$. Once we obtain a coefficient vector $\\alpha$, making predictions for any $\\vec{w}_j$ in the test set requires computing:\n",
        "$$\n",
        "{y}_{j} = \\sum_{i=1}^n \\alpha_i \\cdot k(\\vec{w}_{j}, \\vec{x}_i).\n",
        "$$\n",
        "where $\\vec{x}_1, \\ldots \\vec{x}_n$ are our training data vectors. We classify $\\vec{w}_{j}$ in class 0 if ${y}_{j} \\leq 0$ and in class 1 if ${y}_{j} > 0$. \n",
        "\n",
        "This computation can be rewritten in matrix form as follows:\n",
        "$$\n",
        "\\vec{y}_{test} = K_{test}\\vec{\\alpha}, \n",
        "$$\n",
        "where $\\vec{y}_{text}$ is an $m$ length vector and $K_{test}$ is a $m\\times n$ matrix whose $(j,i)$ entry is equal to $k(\\vec{w}_{j}, \\vec{x}_i)$. We classify $\\vec{w}_{j}$ in class 0 if $\\vec{y}_{test}[j] \\leq 0$ and in class 1 if $\\vec{y}_{test}[j] > 0$. \n"
      ]
    },
    {
      "cell_type": "markdown",
      "metadata": {
        "id": "U6BhIPrH_pPv"
      },
      "source": [
        "Use the `pairwise_kernels` function to construct $K_{test}$. Then make predictions for the test set and evaluate the accuracy of our kernel logistic regression classifier. You should see a pretty substantial lift in accuracy to around $97\\%$"
      ]
    },
    {
      "cell_type": "code",
      "execution_count": null,
      "metadata": {
        "id": "KA6EwssY_pPv"
      },
      "outputs": [],
      "source": [
        "# TODO \n",
        "# Ktest = ..."
      ]
    },
    {
      "cell_type": "code",
      "execution_count": null,
      "metadata": {
        "id": "GrAoBfvK_pPv"
      },
      "outputs": [],
      "source": [
        "# TODO\n",
        "# yhat = ... (vector containing predicted 0,1 labels)\n",
        "# acc = np.mean(yhat == yts8)\n",
        "# print(\"Test accuracy = %f\" % acc)"
      ]
    },
    {
      "cell_type": "markdown",
      "metadata": {
        "id": "l2SO0yhM_pPv"
      },
      "source": [
        "## Kernel Support Vector Machine"
      ]
    },
    {
      "cell_type": "markdown",
      "metadata": {
        "id": "o9x1jZnh_pPv"
      },
      "source": [
        "The goal of this lab is to compare Kernel Logistic Regression to Kernel Support Vector machines. Following `demo_mnist_svm.ipynb` create and train an SVM classifier on `Xtr1` and `ytr8` using an RBF kernel with `gamma = .05` (the same value we used for logistic regression aboe). Use margin parameter `C = 10`."
      ]
    },
    {
      "cell_type": "code",
      "execution_count": null,
      "metadata": {
        "id": "7r-c_g2z_pPv"
      },
      "outputs": [],
      "source": [
        "# TODO"
      ]
    },
    {
      "cell_type": "markdown",
      "metadata": {
        "id": "8hcOkVNj_pPw"
      },
      "source": [
        "Calculate and print the accuracy of the SVM classifier. You should obtain a similar result as for logistic regression: something close to $97\\%$ accuracy. "
      ]
    },
    {
      "cell_type": "code",
      "execution_count": null,
      "metadata": {
        "id": "o5nSyO3J_pPw"
      },
      "outputs": [],
      "source": [
        "# TODO\n",
        "# ysvm = ... (vector containing predicted 0,1 labels)\n",
        "# acc = np.mean(yhat == yts8)\n",
        "# print(\"Test accuracy = %f\" % acc)"
      ]
    },
    {
      "cell_type": "markdown",
      "metadata": {
        "id": "WWp9NlMa_pPw"
      },
      "source": [
        "## The Showdown \n",
        "\n",
        "Both SVM classifiers and kernel logisitic regression require tuning parameters to obtain the best possible result. In our setting we will stick with an RBF kernel (although this could be tuned). So we only consider tuning the kernel width parameter `gamma`, as well as the regularization parameter `lamb` for logistic regression, and the margin parameter `C` for SVM. We will choose parameters using for-loops and train-test cross validation."
      ]
    },
    {
      "cell_type": "markdown",
      "metadata": {
        "id": "ia44LYbc_pPw"
      },
      "source": [
        "Train a logistic regression classifier with **all combinations** of the parameters included below in vectors `gamma` and `lamb`. For each setting of parameters, compute and print:\n",
        "* the test error obtained\n",
        "* the total runtime of classification in seconds (including training time and prediction time)\n",
        "\n",
        "For computing runtime you might want to use the `time()` function from the `time` library, which we already imported ealier. "
      ]
    },
    {
      "cell_type": "code",
      "execution_count": null,
      "metadata": {
        "id": "0cHNr0Kw_pPw"
      },
      "outputs": [],
      "source": [
        "gamma = [.1, .05,.02,.01,.005]\n",
        "lamb = [0,1e-6,1e-4,1e-2]\n",
        "# TODO\n",
        "# ..."
      ]
    },
    {
      "cell_type": "markdown",
      "metadata": {
        "id": "NkcP20AM_pPw"
      },
      "source": [
        "TODO: What was the best test error achieved, and what setting of parameters achieved this error? Was the kernel logistic regression classifier more sensitive to changes in `gamma` or `lamb`? Discuss in 1-3 short sentences below."
      ]
    },
    {
      "cell_type": "markdown",
      "metadata": {
        "id": "LHxF0MXm_pPw"
      },
      "source": [
        "Now let's do the same thing for the kernel Support Vector Classifier. Train an SVM classifier with **all combinations** of the parameters included below in vectors `gamma` and `C`. For each setting of parameters, compute:\n",
        "* the test error obtained\n",
        "* the total runtime of classification in seconds (including training time and prediction time)"
      ]
    },
    {
      "cell_type": "code",
      "execution_count": null,
      "metadata": {
        "id": "FkPkZGIY_pPx"
      },
      "outputs": [],
      "source": [
        "gamma = [.1, .05,.02,.01,.005]\n",
        "C = [.01,.1,1,10]\n",
        "# TODO\n",
        "# ..."
      ]
    },
    {
      "cell_type": "markdown",
      "metadata": {
        "id": "UPI-k50w_pPx"
      },
      "source": [
        "TODO: What was the best test error achieved, and what setting of parameters achieved this error? Which performed better in terms of accuracy, the SVM or logisitic regression classifier? How about in terms of runtime?"
      ]
    },
    {
      "cell_type": "markdown",
      "metadata": {
        "id": "wec-DXhg_pPx"
      },
      "source": [
        "**NOTE:** For `sklearns`'s built in classifiers, including svm.SVC, there is a function called `GridSearchCV` which can automatically perform hyperparamater tuning for you. The main advantage of the method (as opposed to writing for-loops) is that it supports parallelization, so it can fit with different parameters at the same time. The function also supports automatic $k$-fold cross-validation (instead of simple train/test split). \n",
        "\n",
        "You might be interested in using this function in the future. If so, please check out the tutorial in the following lab from previous year: https://github.com/sdrangan/introml/blob/master/unit08_svm/lab_emnist_partial.ipynb."
      ]
    }
  ],
  "metadata": {
    "anaconda-cloud": {},
    "kernelspec": {
      "display_name": "Python 3",
      "language": "python",
      "name": "python3"
    },
    "language_info": {
      "codemirror_mode": {
        "name": "ipython",
        "version": 3
      },
      "file_extension": ".py",
      "mimetype": "text/x-python",
      "name": "python",
      "nbconvert_exporter": "python",
      "pygments_lexer": "ipython3",
      "version": "3.7.4"
    },
    "colab": {
      "name": "lab4.ipynb",
      "provenance": [],
      "collapsed_sections": [],
      "include_colab_link": true
    }
  },
  "nbformat": 4,
  "nbformat_minor": 0
}