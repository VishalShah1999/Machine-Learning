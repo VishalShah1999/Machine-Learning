{
  "cells": [
    {
      "cell_type": "markdown",
      "metadata": {
        "id": "view-in-github",
        "colab_type": "text"
      },
      "source": [
        "<a href=\"https://colab.research.google.com/github/VishalShah1999/Machine-Learning/blob/main/lab1.ipynb\" target=\"_parent\"><img src=\"https://colab.research.google.com/assets/colab-badge.svg\" alt=\"Open In Colab\"/></a>"
      ]
    },
    {
      "cell_type": "markdown",
      "metadata": {
        "id": "1wOHgOlL82YP"
      },
      "source": [
        "# Part 1:  Simple linear regression for one independent variable\n",
        "\n",
        "In this lab, you will load data, plot data, perform simple mathematical manipulations, and fit a simple linear regression model.  Before doing this lab, you can go through the class demo on simple linear regression for an automobile dataset.  The lab use the Boston housing data set, a widely-used machine learning data set for illustrating basic concepts.  "
      ]
    },
    {
      "cell_type": "markdown",
      "metadata": {
        "collapsed": true,
        "id": "BQfs8r8882YS"
      },
      "source": [
        "## Loading the data\n",
        "\n",
        "The Boston housing data set was collected in the 1970s to study the relationship between house price and various factors such as the house size, crime rate, socio-economic status, etc.  Since the variables are easy to understand, the data set is ideal for learning basic concepts in machine learning.  The raw data and a complete description of the dataset can be found on the UCI website:\n",
        "\n",
        "https://archive.ics.uci.edu/ml/machine-learning-databases/housing/\n",
        "\n",
        "Each row in the dataset it not a single house -- it corresponds to the average information about homes in a single single [census track](https://en.wikipedia.org/wiki/Census_tract).\n",
        "\n",
        "In the lab, you will complete all the code marked `TODO`. \n",
        "\n",
        "First, complete the following code that uses the `pd.read_csv` command to read the data from the file located at\n",
        "\n",
        "https://archive.ics.uci.edu/ml/machine-learning-databases/housing/housing.data\n",
        "\n",
        "I have supplied a list `names` of the column headers.  You will have to set the options in the `read_csv` command to correctly delimit the data in the file and name the columns correctly."
      ]
    },
    {
      "cell_type": "code",
      "execution_count": null,
      "metadata": {
        "id": "ri1lo0uf82YS"
      },
      "outputs": [],
      "source": [
        "import pandas as pd\n",
        "import numpy as np\n",
        "colnames =[\n",
        "    'CRIM', 'ZN', 'INDUS', 'CHAS', 'NOX', 'RM', \n",
        "    'AGE',  'DIS', 'RAD', 'TAX', 'PTRATIO', 'B', 'LSTAT', 'PRICE'\n",
        "]\n",
        "\n",
        "# TODO:  Complete the code\n",
        "df = pd.read_csv('https://archive.ics.uci.edu/ml/machine-learning-databases/housing/housing.data', header=None, delim_whitespace=True, names=colnames, na_values='?')"
      ]
    },
    {
      "cell_type": "code",
      "source": [
        "df"
      ],
      "metadata": {
        "colab": {
          "base_uri": "https://localhost:8080/",
          "height": 419
        },
        "id": "v9xBnaSGNZ3K",
        "outputId": "a9ec3d28-aa5b-46ad-9088-fbb5d99c70f1"
      },
      "execution_count": null,
      "outputs": [
        {
          "output_type": "execute_result",
          "data": {
            "text/html": [
              "\n",
              "  <div id=\"df-ef13632c-37c4-45a8-af49-0d5b411889a1\">\n",
              "    <div class=\"colab-df-container\">\n",
              "      <div>\n",
              "<style scoped>\n",
              "    .dataframe tbody tr th:only-of-type {\n",
              "        vertical-align: middle;\n",
              "    }\n",
              "\n",
              "    .dataframe tbody tr th {\n",
              "        vertical-align: top;\n",
              "    }\n",
              "\n",
              "    .dataframe thead th {\n",
              "        text-align: right;\n",
              "    }\n",
              "</style>\n",
              "<table border=\"1\" class=\"dataframe\">\n",
              "  <thead>\n",
              "    <tr style=\"text-align: right;\">\n",
              "      <th></th>\n",
              "      <th>CRIM</th>\n",
              "      <th>ZN</th>\n",
              "      <th>INDUS</th>\n",
              "      <th>CHAS</th>\n",
              "      <th>NOX</th>\n",
              "      <th>RM</th>\n",
              "      <th>AGE</th>\n",
              "      <th>DIS</th>\n",
              "      <th>RAD</th>\n",
              "      <th>TAX</th>\n",
              "      <th>PTRATIO</th>\n",
              "      <th>B</th>\n",
              "      <th>LSTAT</th>\n",
              "      <th>PRICE</th>\n",
              "    </tr>\n",
              "  </thead>\n",
              "  <tbody>\n",
              "    <tr>\n",
              "      <th>0</th>\n",
              "      <td>0.00632</td>\n",
              "      <td>18.0</td>\n",
              "      <td>2.31</td>\n",
              "      <td>0</td>\n",
              "      <td>0.538</td>\n",
              "      <td>6.575</td>\n",
              "      <td>65.2</td>\n",
              "      <td>4.0900</td>\n",
              "      <td>1</td>\n",
              "      <td>296.0</td>\n",
              "      <td>15.3</td>\n",
              "      <td>396.90</td>\n",
              "      <td>4.98</td>\n",
              "      <td>24.0</td>\n",
              "    </tr>\n",
              "    <tr>\n",
              "      <th>1</th>\n",
              "      <td>0.02731</td>\n",
              "      <td>0.0</td>\n",
              "      <td>7.07</td>\n",
              "      <td>0</td>\n",
              "      <td>0.469</td>\n",
              "      <td>6.421</td>\n",
              "      <td>78.9</td>\n",
              "      <td>4.9671</td>\n",
              "      <td>2</td>\n",
              "      <td>242.0</td>\n",
              "      <td>17.8</td>\n",
              "      <td>396.90</td>\n",
              "      <td>9.14</td>\n",
              "      <td>21.6</td>\n",
              "    </tr>\n",
              "    <tr>\n",
              "      <th>2</th>\n",
              "      <td>0.02729</td>\n",
              "      <td>0.0</td>\n",
              "      <td>7.07</td>\n",
              "      <td>0</td>\n",
              "      <td>0.469</td>\n",
              "      <td>7.185</td>\n",
              "      <td>61.1</td>\n",
              "      <td>4.9671</td>\n",
              "      <td>2</td>\n",
              "      <td>242.0</td>\n",
              "      <td>17.8</td>\n",
              "      <td>392.83</td>\n",
              "      <td>4.03</td>\n",
              "      <td>34.7</td>\n",
              "    </tr>\n",
              "    <tr>\n",
              "      <th>3</th>\n",
              "      <td>0.03237</td>\n",
              "      <td>0.0</td>\n",
              "      <td>2.18</td>\n",
              "      <td>0</td>\n",
              "      <td>0.458</td>\n",
              "      <td>6.998</td>\n",
              "      <td>45.8</td>\n",
              "      <td>6.0622</td>\n",
              "      <td>3</td>\n",
              "      <td>222.0</td>\n",
              "      <td>18.7</td>\n",
              "      <td>394.63</td>\n",
              "      <td>2.94</td>\n",
              "      <td>33.4</td>\n",
              "    </tr>\n",
              "    <tr>\n",
              "      <th>4</th>\n",
              "      <td>0.06905</td>\n",
              "      <td>0.0</td>\n",
              "      <td>2.18</td>\n",
              "      <td>0</td>\n",
              "      <td>0.458</td>\n",
              "      <td>7.147</td>\n",
              "      <td>54.2</td>\n",
              "      <td>6.0622</td>\n",
              "      <td>3</td>\n",
              "      <td>222.0</td>\n",
              "      <td>18.7</td>\n",
              "      <td>396.90</td>\n",
              "      <td>5.33</td>\n",
              "      <td>36.2</td>\n",
              "    </tr>\n",
              "    <tr>\n",
              "      <th>...</th>\n",
              "      <td>...</td>\n",
              "      <td>...</td>\n",
              "      <td>...</td>\n",
              "      <td>...</td>\n",
              "      <td>...</td>\n",
              "      <td>...</td>\n",
              "      <td>...</td>\n",
              "      <td>...</td>\n",
              "      <td>...</td>\n",
              "      <td>...</td>\n",
              "      <td>...</td>\n",
              "      <td>...</td>\n",
              "      <td>...</td>\n",
              "      <td>...</td>\n",
              "    </tr>\n",
              "    <tr>\n",
              "      <th>501</th>\n",
              "      <td>0.06263</td>\n",
              "      <td>0.0</td>\n",
              "      <td>11.93</td>\n",
              "      <td>0</td>\n",
              "      <td>0.573</td>\n",
              "      <td>6.593</td>\n",
              "      <td>69.1</td>\n",
              "      <td>2.4786</td>\n",
              "      <td>1</td>\n",
              "      <td>273.0</td>\n",
              "      <td>21.0</td>\n",
              "      <td>391.99</td>\n",
              "      <td>9.67</td>\n",
              "      <td>22.4</td>\n",
              "    </tr>\n",
              "    <tr>\n",
              "      <th>502</th>\n",
              "      <td>0.04527</td>\n",
              "      <td>0.0</td>\n",
              "      <td>11.93</td>\n",
              "      <td>0</td>\n",
              "      <td>0.573</td>\n",
              "      <td>6.120</td>\n",
              "      <td>76.7</td>\n",
              "      <td>2.2875</td>\n",
              "      <td>1</td>\n",
              "      <td>273.0</td>\n",
              "      <td>21.0</td>\n",
              "      <td>396.90</td>\n",
              "      <td>9.08</td>\n",
              "      <td>20.6</td>\n",
              "    </tr>\n",
              "    <tr>\n",
              "      <th>503</th>\n",
              "      <td>0.06076</td>\n",
              "      <td>0.0</td>\n",
              "      <td>11.93</td>\n",
              "      <td>0</td>\n",
              "      <td>0.573</td>\n",
              "      <td>6.976</td>\n",
              "      <td>91.0</td>\n",
              "      <td>2.1675</td>\n",
              "      <td>1</td>\n",
              "      <td>273.0</td>\n",
              "      <td>21.0</td>\n",
              "      <td>396.90</td>\n",
              "      <td>5.64</td>\n",
              "      <td>23.9</td>\n",
              "    </tr>\n",
              "    <tr>\n",
              "      <th>504</th>\n",
              "      <td>0.10959</td>\n",
              "      <td>0.0</td>\n",
              "      <td>11.93</td>\n",
              "      <td>0</td>\n",
              "      <td>0.573</td>\n",
              "      <td>6.794</td>\n",
              "      <td>89.3</td>\n",
              "      <td>2.3889</td>\n",
              "      <td>1</td>\n",
              "      <td>273.0</td>\n",
              "      <td>21.0</td>\n",
              "      <td>393.45</td>\n",
              "      <td>6.48</td>\n",
              "      <td>22.0</td>\n",
              "    </tr>\n",
              "    <tr>\n",
              "      <th>505</th>\n",
              "      <td>0.04741</td>\n",
              "      <td>0.0</td>\n",
              "      <td>11.93</td>\n",
              "      <td>0</td>\n",
              "      <td>0.573</td>\n",
              "      <td>6.030</td>\n",
              "      <td>80.8</td>\n",
              "      <td>2.5050</td>\n",
              "      <td>1</td>\n",
              "      <td>273.0</td>\n",
              "      <td>21.0</td>\n",
              "      <td>396.90</td>\n",
              "      <td>7.88</td>\n",
              "      <td>11.9</td>\n",
              "    </tr>\n",
              "  </tbody>\n",
              "</table>\n",
              "<p>506 rows × 14 columns</p>\n",
              "</div>\n",
              "      <button class=\"colab-df-convert\" onclick=\"convertToInteractive('df-ef13632c-37c4-45a8-af49-0d5b411889a1')\"\n",
              "              title=\"Convert this dataframe to an interactive table.\"\n",
              "              style=\"display:none;\">\n",
              "        \n",
              "  <svg xmlns=\"http://www.w3.org/2000/svg\" height=\"24px\"viewBox=\"0 0 24 24\"\n",
              "       width=\"24px\">\n",
              "    <path d=\"M0 0h24v24H0V0z\" fill=\"none\"/>\n",
              "    <path d=\"M18.56 5.44l.94 2.06.94-2.06 2.06-.94-2.06-.94-.94-2.06-.94 2.06-2.06.94zm-11 1L8.5 8.5l.94-2.06 2.06-.94-2.06-.94L8.5 2.5l-.94 2.06-2.06.94zm10 10l.94 2.06.94-2.06 2.06-.94-2.06-.94-.94-2.06-.94 2.06-2.06.94z\"/><path d=\"M17.41 7.96l-1.37-1.37c-.4-.4-.92-.59-1.43-.59-.52 0-1.04.2-1.43.59L10.3 9.45l-7.72 7.72c-.78.78-.78 2.05 0 2.83L4 21.41c.39.39.9.59 1.41.59.51 0 1.02-.2 1.41-.59l7.78-7.78 2.81-2.81c.8-.78.8-2.07 0-2.86zM5.41 20L4 18.59l7.72-7.72 1.47 1.35L5.41 20z\"/>\n",
              "  </svg>\n",
              "      </button>\n",
              "      \n",
              "  <style>\n",
              "    .colab-df-container {\n",
              "      display:flex;\n",
              "      flex-wrap:wrap;\n",
              "      gap: 12px;\n",
              "    }\n",
              "\n",
              "    .colab-df-convert {\n",
              "      background-color: #E8F0FE;\n",
              "      border: none;\n",
              "      border-radius: 50%;\n",
              "      cursor: pointer;\n",
              "      display: none;\n",
              "      fill: #1967D2;\n",
              "      height: 32px;\n",
              "      padding: 0 0 0 0;\n",
              "      width: 32px;\n",
              "    }\n",
              "\n",
              "    .colab-df-convert:hover {\n",
              "      background-color: #E2EBFA;\n",
              "      box-shadow: 0px 1px 2px rgba(60, 64, 67, 0.3), 0px 1px 3px 1px rgba(60, 64, 67, 0.15);\n",
              "      fill: #174EA6;\n",
              "    }\n",
              "\n",
              "    [theme=dark] .colab-df-convert {\n",
              "      background-color: #3B4455;\n",
              "      fill: #D2E3FC;\n",
              "    }\n",
              "\n",
              "    [theme=dark] .colab-df-convert:hover {\n",
              "      background-color: #434B5C;\n",
              "      box-shadow: 0px 1px 3px 1px rgba(0, 0, 0, 0.15);\n",
              "      filter: drop-shadow(0px 1px 2px rgba(0, 0, 0, 0.3));\n",
              "      fill: #FFFFFF;\n",
              "    }\n",
              "  </style>\n",
              "\n",
              "      <script>\n",
              "        const buttonEl =\n",
              "          document.querySelector('#df-ef13632c-37c4-45a8-af49-0d5b411889a1 button.colab-df-convert');\n",
              "        buttonEl.style.display =\n",
              "          google.colab.kernel.accessAllowed ? 'block' : 'none';\n",
              "\n",
              "        async function convertToInteractive(key) {\n",
              "          const element = document.querySelector('#df-ef13632c-37c4-45a8-af49-0d5b411889a1');\n",
              "          const dataTable =\n",
              "            await google.colab.kernel.invokeFunction('convertToInteractive',\n",
              "                                                     [key], {});\n",
              "          if (!dataTable) return;\n",
              "\n",
              "          const docLinkHtml = 'Like what you see? Visit the ' +\n",
              "            '<a target=\"_blank\" href=https://colab.research.google.com/notebooks/data_table.ipynb>data table notebook</a>'\n",
              "            + ' to learn more about interactive tables.';\n",
              "          element.innerHTML = '';\n",
              "          dataTable['output_type'] = 'display_data';\n",
              "          await google.colab.output.renderOutput(dataTable, element);\n",
              "          const docLink = document.createElement('div');\n",
              "          docLink.innerHTML = docLinkHtml;\n",
              "          element.appendChild(docLink);\n",
              "        }\n",
              "      </script>\n",
              "    </div>\n",
              "  </div>\n",
              "  "
            ],
            "text/plain": [
              "        CRIM    ZN  INDUS  CHAS    NOX  ...    TAX  PTRATIO       B  LSTAT  PRICE\n",
              "0    0.00632  18.0   2.31     0  0.538  ...  296.0     15.3  396.90   4.98   24.0\n",
              "1    0.02731   0.0   7.07     0  0.469  ...  242.0     17.8  396.90   9.14   21.6\n",
              "2    0.02729   0.0   7.07     0  0.469  ...  242.0     17.8  392.83   4.03   34.7\n",
              "3    0.03237   0.0   2.18     0  0.458  ...  222.0     18.7  394.63   2.94   33.4\n",
              "4    0.06905   0.0   2.18     0  0.458  ...  222.0     18.7  396.90   5.33   36.2\n",
              "..       ...   ...    ...   ...    ...  ...    ...      ...     ...    ...    ...\n",
              "501  0.06263   0.0  11.93     0  0.573  ...  273.0     21.0  391.99   9.67   22.4\n",
              "502  0.04527   0.0  11.93     0  0.573  ...  273.0     21.0  396.90   9.08   20.6\n",
              "503  0.06076   0.0  11.93     0  0.573  ...  273.0     21.0  396.90   5.64   23.9\n",
              "504  0.10959   0.0  11.93     0  0.573  ...  273.0     21.0  393.45   6.48   22.0\n",
              "505  0.04741   0.0  11.93     0  0.573  ...  273.0     21.0  396.90   7.88   11.9\n",
              "\n",
              "[506 rows x 14 columns]"
            ]
          },
          "metadata": {},
          "execution_count": 29
        }
      ]
    },
    {
      "cell_type": "markdown",
      "metadata": {
        "id": "_LfapTGd82YT"
      },
      "source": [
        "Display the first six rows of the data frame"
      ]
    },
    {
      "cell_type": "code",
      "execution_count": null,
      "metadata": {
        "id": "wntinQOm82YT",
        "colab": {
          "base_uri": "https://localhost:8080/",
          "height": 235
        },
        "outputId": "f4fdef1a-279a-4f4e-c586-0dc5af24ac7b"
      },
      "outputs": [
        {
          "output_type": "execute_result",
          "data": {
            "text/html": [
              "\n",
              "  <div id=\"df-6687c76b-bc4e-447e-8c5b-4d3869288941\">\n",
              "    <div class=\"colab-df-container\">\n",
              "      <div>\n",
              "<style scoped>\n",
              "    .dataframe tbody tr th:only-of-type {\n",
              "        vertical-align: middle;\n",
              "    }\n",
              "\n",
              "    .dataframe tbody tr th {\n",
              "        vertical-align: top;\n",
              "    }\n",
              "\n",
              "    .dataframe thead th {\n",
              "        text-align: right;\n",
              "    }\n",
              "</style>\n",
              "<table border=\"1\" class=\"dataframe\">\n",
              "  <thead>\n",
              "    <tr style=\"text-align: right;\">\n",
              "      <th></th>\n",
              "      <th>CRIM</th>\n",
              "      <th>ZN</th>\n",
              "      <th>INDUS</th>\n",
              "      <th>CHAS</th>\n",
              "      <th>NOX</th>\n",
              "      <th>RM</th>\n",
              "      <th>AGE</th>\n",
              "      <th>DIS</th>\n",
              "      <th>RAD</th>\n",
              "      <th>TAX</th>\n",
              "      <th>PTRATIO</th>\n",
              "      <th>B</th>\n",
              "      <th>LSTAT</th>\n",
              "      <th>PRICE</th>\n",
              "    </tr>\n",
              "  </thead>\n",
              "  <tbody>\n",
              "    <tr>\n",
              "      <th>0</th>\n",
              "      <td>0.00632</td>\n",
              "      <td>18.0</td>\n",
              "      <td>2.31</td>\n",
              "      <td>0</td>\n",
              "      <td>0.538</td>\n",
              "      <td>6.575</td>\n",
              "      <td>65.2</td>\n",
              "      <td>4.0900</td>\n",
              "      <td>1</td>\n",
              "      <td>296.0</td>\n",
              "      <td>15.3</td>\n",
              "      <td>396.90</td>\n",
              "      <td>4.98</td>\n",
              "      <td>24.0</td>\n",
              "    </tr>\n",
              "    <tr>\n",
              "      <th>1</th>\n",
              "      <td>0.02731</td>\n",
              "      <td>0.0</td>\n",
              "      <td>7.07</td>\n",
              "      <td>0</td>\n",
              "      <td>0.469</td>\n",
              "      <td>6.421</td>\n",
              "      <td>78.9</td>\n",
              "      <td>4.9671</td>\n",
              "      <td>2</td>\n",
              "      <td>242.0</td>\n",
              "      <td>17.8</td>\n",
              "      <td>396.90</td>\n",
              "      <td>9.14</td>\n",
              "      <td>21.6</td>\n",
              "    </tr>\n",
              "    <tr>\n",
              "      <th>2</th>\n",
              "      <td>0.02729</td>\n",
              "      <td>0.0</td>\n",
              "      <td>7.07</td>\n",
              "      <td>0</td>\n",
              "      <td>0.469</td>\n",
              "      <td>7.185</td>\n",
              "      <td>61.1</td>\n",
              "      <td>4.9671</td>\n",
              "      <td>2</td>\n",
              "      <td>242.0</td>\n",
              "      <td>17.8</td>\n",
              "      <td>392.83</td>\n",
              "      <td>4.03</td>\n",
              "      <td>34.7</td>\n",
              "    </tr>\n",
              "    <tr>\n",
              "      <th>3</th>\n",
              "      <td>0.03237</td>\n",
              "      <td>0.0</td>\n",
              "      <td>2.18</td>\n",
              "      <td>0</td>\n",
              "      <td>0.458</td>\n",
              "      <td>6.998</td>\n",
              "      <td>45.8</td>\n",
              "      <td>6.0622</td>\n",
              "      <td>3</td>\n",
              "      <td>222.0</td>\n",
              "      <td>18.7</td>\n",
              "      <td>394.63</td>\n",
              "      <td>2.94</td>\n",
              "      <td>33.4</td>\n",
              "    </tr>\n",
              "    <tr>\n",
              "      <th>4</th>\n",
              "      <td>0.06905</td>\n",
              "      <td>0.0</td>\n",
              "      <td>2.18</td>\n",
              "      <td>0</td>\n",
              "      <td>0.458</td>\n",
              "      <td>7.147</td>\n",
              "      <td>54.2</td>\n",
              "      <td>6.0622</td>\n",
              "      <td>3</td>\n",
              "      <td>222.0</td>\n",
              "      <td>18.7</td>\n",
              "      <td>396.90</td>\n",
              "      <td>5.33</td>\n",
              "      <td>36.2</td>\n",
              "    </tr>\n",
              "    <tr>\n",
              "      <th>5</th>\n",
              "      <td>0.02985</td>\n",
              "      <td>0.0</td>\n",
              "      <td>2.18</td>\n",
              "      <td>0</td>\n",
              "      <td>0.458</td>\n",
              "      <td>6.430</td>\n",
              "      <td>58.7</td>\n",
              "      <td>6.0622</td>\n",
              "      <td>3</td>\n",
              "      <td>222.0</td>\n",
              "      <td>18.7</td>\n",
              "      <td>394.12</td>\n",
              "      <td>5.21</td>\n",
              "      <td>28.7</td>\n",
              "    </tr>\n",
              "  </tbody>\n",
              "</table>\n",
              "</div>\n",
              "      <button class=\"colab-df-convert\" onclick=\"convertToInteractive('df-6687c76b-bc4e-447e-8c5b-4d3869288941')\"\n",
              "              title=\"Convert this dataframe to an interactive table.\"\n",
              "              style=\"display:none;\">\n",
              "        \n",
              "  <svg xmlns=\"http://www.w3.org/2000/svg\" height=\"24px\"viewBox=\"0 0 24 24\"\n",
              "       width=\"24px\">\n",
              "    <path d=\"M0 0h24v24H0V0z\" fill=\"none\"/>\n",
              "    <path d=\"M18.56 5.44l.94 2.06.94-2.06 2.06-.94-2.06-.94-.94-2.06-.94 2.06-2.06.94zm-11 1L8.5 8.5l.94-2.06 2.06-.94-2.06-.94L8.5 2.5l-.94 2.06-2.06.94zm10 10l.94 2.06.94-2.06 2.06-.94-2.06-.94-.94-2.06-.94 2.06-2.06.94z\"/><path d=\"M17.41 7.96l-1.37-1.37c-.4-.4-.92-.59-1.43-.59-.52 0-1.04.2-1.43.59L10.3 9.45l-7.72 7.72c-.78.78-.78 2.05 0 2.83L4 21.41c.39.39.9.59 1.41.59.51 0 1.02-.2 1.41-.59l7.78-7.78 2.81-2.81c.8-.78.8-2.07 0-2.86zM5.41 20L4 18.59l7.72-7.72 1.47 1.35L5.41 20z\"/>\n",
              "  </svg>\n",
              "      </button>\n",
              "      \n",
              "  <style>\n",
              "    .colab-df-container {\n",
              "      display:flex;\n",
              "      flex-wrap:wrap;\n",
              "      gap: 12px;\n",
              "    }\n",
              "\n",
              "    .colab-df-convert {\n",
              "      background-color: #E8F0FE;\n",
              "      border: none;\n",
              "      border-radius: 50%;\n",
              "      cursor: pointer;\n",
              "      display: none;\n",
              "      fill: #1967D2;\n",
              "      height: 32px;\n",
              "      padding: 0 0 0 0;\n",
              "      width: 32px;\n",
              "    }\n",
              "\n",
              "    .colab-df-convert:hover {\n",
              "      background-color: #E2EBFA;\n",
              "      box-shadow: 0px 1px 2px rgba(60, 64, 67, 0.3), 0px 1px 3px 1px rgba(60, 64, 67, 0.15);\n",
              "      fill: #174EA6;\n",
              "    }\n",
              "\n",
              "    [theme=dark] .colab-df-convert {\n",
              "      background-color: #3B4455;\n",
              "      fill: #D2E3FC;\n",
              "    }\n",
              "\n",
              "    [theme=dark] .colab-df-convert:hover {\n",
              "      background-color: #434B5C;\n",
              "      box-shadow: 0px 1px 3px 1px rgba(0, 0, 0, 0.15);\n",
              "      filter: drop-shadow(0px 1px 2px rgba(0, 0, 0, 0.3));\n",
              "      fill: #FFFFFF;\n",
              "    }\n",
              "  </style>\n",
              "\n",
              "      <script>\n",
              "        const buttonEl =\n",
              "          document.querySelector('#df-6687c76b-bc4e-447e-8c5b-4d3869288941 button.colab-df-convert');\n",
              "        buttonEl.style.display =\n",
              "          google.colab.kernel.accessAllowed ? 'block' : 'none';\n",
              "\n",
              "        async function convertToInteractive(key) {\n",
              "          const element = document.querySelector('#df-6687c76b-bc4e-447e-8c5b-4d3869288941');\n",
              "          const dataTable =\n",
              "            await google.colab.kernel.invokeFunction('convertToInteractive',\n",
              "                                                     [key], {});\n",
              "          if (!dataTable) return;\n",
              "\n",
              "          const docLinkHtml = 'Like what you see? Visit the ' +\n",
              "            '<a target=\"_blank\" href=https://colab.research.google.com/notebooks/data_table.ipynb>data table notebook</a>'\n",
              "            + ' to learn more about interactive tables.';\n",
              "          element.innerHTML = '';\n",
              "          dataTable['output_type'] = 'display_data';\n",
              "          await google.colab.output.renderOutput(dataTable, element);\n",
              "          const docLink = document.createElement('div');\n",
              "          docLink.innerHTML = docLinkHtml;\n",
              "          element.appendChild(docLink);\n",
              "        }\n",
              "      </script>\n",
              "    </div>\n",
              "  </div>\n",
              "  "
            ],
            "text/plain": [
              "      CRIM    ZN  INDUS  CHAS    NOX  ...    TAX  PTRATIO       B  LSTAT  PRICE\n",
              "0  0.00632  18.0   2.31     0  0.538  ...  296.0     15.3  396.90   4.98   24.0\n",
              "1  0.02731   0.0   7.07     0  0.469  ...  242.0     17.8  396.90   9.14   21.6\n",
              "2  0.02729   0.0   7.07     0  0.469  ...  242.0     17.8  392.83   4.03   34.7\n",
              "3  0.03237   0.0   2.18     0  0.458  ...  222.0     18.7  394.63   2.94   33.4\n",
              "4  0.06905   0.0   2.18     0  0.458  ...  222.0     18.7  396.90   5.33   36.2\n",
              "5  0.02985   0.0   2.18     0  0.458  ...  222.0     18.7  394.12   5.21   28.7\n",
              "\n",
              "[6 rows x 14 columns]"
            ]
          },
          "metadata": {},
          "execution_count": 30
        }
      ],
      "source": [
        "# TODO\n",
        "df.head(6)"
      ]
    },
    {
      "cell_type": "markdown",
      "metadata": {
        "id": "QCtnTO4W82YU"
      },
      "source": [
        "## Basic Manipulations on the Data\n",
        "\n",
        "What is the shape of the data?  How many attributes are there?  How many samples?\n",
        "Print a statement of the form:\n",
        "\n",
        "    num samples=xxx, num attributes=yy"
      ]
    },
    {
      "cell_type": "code",
      "execution_count": null,
      "metadata": {
        "id": "_RwUMg_P82YU",
        "colab": {
          "base_uri": "https://localhost:8080/"
        },
        "outputId": "f8b7c4a2-ffbc-4c3f-c1f7-0e4987bc79b8"
      },
      "outputs": [
        {
          "output_type": "stream",
          "name": "stdout",
          "text": [
            "Samples 506  Attributes 14\n"
          ]
        }
      ],
      "source": [
        "# TODO\n",
        "shape = df.shape\n",
        "print(\"Samples\",shape[0], \" Attributes\",shape[1])"
      ]
    },
    {
      "cell_type": "markdown",
      "metadata": {
        "id": "0l54X2fn82YU"
      },
      "source": [
        "Create a response vector `y` with the values in the column `PRICE`.  The vector `y` should be a 1D `numpy.ndarray` structure."
      ]
    },
    {
      "cell_type": "code",
      "execution_count": null,
      "metadata": {
        "id": "2XE4xs3P82YV"
      },
      "outputs": [],
      "source": [
        "# TODO\n",
        "y = df['PRICE'].values"
      ]
    },
    {
      "cell_type": "markdown",
      "metadata": {
        "id": "ck5d5fnf82YV"
      },
      "source": [
        "Use the response vector `y` to find the mean house price in thousands and the fraction of homes that are above $40k. (You may realize this is very cheap.  Prices have gone up a lot since the 1970s!). Print and label your results."
      ]
    },
    {
      "cell_type": "code",
      "execution_count": 60,
      "metadata": {
        "id": "CRPdVStC82YW",
        "colab": {
          "base_uri": "https://localhost:8080/"
        },
        "outputId": "01f98135-1ad8-4eb4-fd30-44e71b2740ac"
      },
      "outputs": [
        {
          "output_type": "stream",
          "name": "stdout",
          "text": [
            "Mean House Price :  22.532806324110677\n",
            "Fraction of House above 40k :  0.06126482213438735\n"
          ]
        }
      ],
      "source": [
        "# TODO\n",
        "house_mean = y.mean()\n",
        "c = 0\n",
        "for i in y:\n",
        "  if i <= 40:\n",
        "    c += 1\n",
        "print(\"Mean House Price : \",house_mean)\n",
        "print(\"Fraction of House above 40k : \",(shape[0]-c)/shape[0])"
      ]
    },
    {
      "cell_type": "markdown",
      "metadata": {
        "id": "WKV5d5N882YW"
      },
      "source": [
        "## Visualizing the Data\n",
        "\n",
        "Load the `matplotlib` package with the following commands."
      ]
    },
    {
      "cell_type": "code",
      "execution_count": 61,
      "metadata": {
        "id": "boqNOrZp82YW"
      },
      "outputs": [],
      "source": [
        "import matplotlib\n",
        "import matplotlib.pyplot as plt\n",
        "%matplotlib inline"
      ]
    },
    {
      "cell_type": "markdown",
      "metadata": {
        "id": "wV3xdlIP82YW"
      },
      "source": [
        "Similar to the `y` vector, create a predictor vector `x` containing the values in the `RM` column, which represents the average number of rooms in each census track."
      ]
    },
    {
      "cell_type": "code",
      "execution_count": 62,
      "metadata": {
        "id": "K-6zHpkC82YX"
      },
      "outputs": [],
      "source": [
        "# TODO\n",
        "x = df['RM'].values"
      ]
    },
    {
      "cell_type": "markdown",
      "metadata": {
        "id": "PfjeI4M982YX"
      },
      "source": [
        "Create a scatter plot of the price vs. the `RM` attribute.  Label the axes with reasonable labels so that someone else can understand the plot."
      ]
    },
    {
      "cell_type": "code",
      "execution_count": 63,
      "metadata": {
        "id": "8ohcQaqj82YX",
        "colab": {
          "base_uri": "https://localhost:8080/",
          "height": 312
        },
        "outputId": "1ccb0586-a855-46b7-d9f7-1e511cf6e236"
      },
      "outputs": [
        {
          "output_type": "execute_result",
          "data": {
            "text/plain": [
              "Text(0, 0.5, 'Price of the Houses')"
            ]
          },
          "metadata": {},
          "execution_count": 63
        },
        {
          "output_type": "display_data",
          "data": {
            "image/png": "[encoded data removed]",
            "text/plain": [
              "<Figure size 432x288 with 1 Axes>"
            ]
          },
          "metadata": {
            "needs_background": "light"
          }
        }
      ],
      "source": [
        "# TODO\n",
        "plt.scatter(x,y)\n",
        "plt.title('House Prices based on Avg Rooms')\n",
        "plt.xlabel('Avg Number of Rooms in each Census Track')\n",
        "plt.ylabel('Price of the Houses')"
      ]
    },
    {
      "cell_type": "markdown",
      "metadata": {
        "id": "A4Bq2-MS82YX"
      },
      "source": [
        "## Fitting a Simple Linear Model\n",
        "\n",
        "We will write a simple function to perform a linear fit under the squared loss function. Use the formulae given in the class to compute the optimal parameters $\\beta_0,\\beta_1$ in the linear model $$y =\\beta_0 + \\beta_1 x$$ as well as the optimal loss $\\sum_{i=1}^n (y_i - \\beta_0 - \\beta_1 x)^2$."
      ]
    },
    {
      "cell_type": "code",
      "execution_count": 64,
      "metadata": {
        "id": "f1KClvuZ82YX"
      },
      "outputs": [],
      "source": [
        "def fit_linear(x,y):\n",
        "    \"\"\"\n",
        "    Given vectors of data points (x,y), performs a fit for the linear model:\n",
        "       y = beta0 + beta1*x, \n",
        "    The function returns beta0, beta1, and loss, where loss is the sum-of-squares loss of.\n",
        "    \"\"\"\n",
        "    # TODO complete the following code\n",
        "    xm = np.mean(x)\n",
        "    ym = np.mean(y)\n",
        "    syx = np.mean((y-ym)*(x-xm))\n",
        "    sxx = np.mean((x-xm)**2)\n",
        "    syy = np.mean((y-ym)**2)\n",
        "    beta1 = syx/sxx\n",
        "    beta0 = ym - beta1*xm\n",
        "    yhat=beta0+beta1*x\n",
        "    loss = np.sum((y-yhat)**2)\n",
        "    \n",
        "    return beta0, beta1, loss"
      ]
    },
    {
      "cell_type": "markdown",
      "metadata": {
        "id": "-Z31VFI782YY"
      },
      "source": [
        "Using the function `fit_linear` above, print the values `beta0`, `beta1` and `loss` for the linear model of price vs. number of rooms."
      ]
    },
    {
      "cell_type": "code",
      "execution_count": 65,
      "metadata": {
        "id": "3YqPtVCb82YY",
        "colab": {
          "base_uri": "https://localhost:8080/"
        },
        "outputId": "2abf1113-97dd-4aa6-8704-31b509fc3ee4"
      },
      "outputs": [
        {
          "output_type": "stream",
          "name": "stdout",
          "text": [
            "Beta0 =  -34.67062077643857  Beta1 =  9.10210898118031  Loss =  22061.879196211798\n"
          ]
        }
      ],
      "source": [
        "# TODO\n",
        "beta0, beta1, loss = fit_linear(x,y)\n",
        "print(\"Beta0 = \",beta0,\" Beta1 = \",beta1,\" Loss = \",loss)"
      ]
    },
    {
      "cell_type": "markdown",
      "metadata": {
        "id": "HgGsqX_782YY"
      },
      "source": [
        "Replot the scatter plot above, but now with the regression line.  You can create the regression line by creating points `yp` that are the predicted values for each value in `x`, according to our linear model. Plot as a line, not a scatter plot."
      ]
    },
    {
      "cell_type": "code",
      "execution_count": 66,
      "metadata": {
        "id": "lcRn_sBm82YY",
        "colab": {
          "base_uri": "https://localhost:8080/",
          "height": 279
        },
        "outputId": "39060253-3d39-4d5b-af7c-21fac2c1a277"
      },
      "outputs": [
        {
          "output_type": "display_data",
          "data": {
            "image/png": "[encoded data removed]",
            "text/plain": [
              "<Figure size 432x288 with 1 Axes>"
            ]
          },
          "metadata": {
            "needs_background": "light"
          }
        }
      ],
      "source": [
        "# TODO\n",
        "ypred = beta1*x + beta0\n",
        "\n",
        "plt.plot(x,y,'o')                    # Plot the data points\n",
        "plt.plot(x,ypred,'-',linewidth=3)  # Plot the regression line (the predicted values)\n",
        "plt.xlabel('Avg Number of Rooms in each Census Track')\n",
        "plt.ylabel('Price of the Houses')\n",
        "plt.grid(True)"
      ]
    },
    {
      "cell_type": "markdown",
      "metadata": {
        "id": "k4tKB1WB82YY"
      },
      "source": [
        "# Part 2:  Compare different dependent variables\n",
        "\n",
        "\n",
        "We next compute the squared loss for all the predictors and output the values in a table. Your table should look like the following, where each entry in the first column is the attribute name and the second column is the squared loss.\n",
        "\n",
        "    CRIM        XXXXX\n",
        "    ZN          XXXXX\n",
        "    INDUS       XXXXX\n",
        "    ...         ...\n",
        "\n",
        "You will need to write a loop. One option is to loop over the list of colunm names in the dataframe `df`.\n",
        "\n",
        "What variable does the best job predicting house price?"
      ]
    },
    {
      "cell_type": "code",
      "execution_count": 67,
      "metadata": {
        "id": "zgttKdBI82YY"
      },
      "outputs": [],
      "source": [
        "# TODO\n",
        "def fit_linear_all(x,y):\n",
        "    \"\"\"\n",
        "    Given vectors of data points (x,y), performs a fit for the linear model:\n",
        "       y = beta0 + beta1*x, \n",
        "    The function returns beta0, beta1, and loss, where loss is the sum-of-squares loss of.\n",
        "    \"\"\"\n",
        "    # TODO complete the following code\n",
        "    xm = np.mean(x)\n",
        "    ym = np.mean(y)\n",
        "    syx = np.mean((y-ym)*(x-xm))\n",
        "    sxx = np.mean((x-xm)**2)\n",
        "    syy = np.mean((y-ym)**2)\n",
        "    beta1 = syx/sxx\n",
        "    beta0 = ym - beta1*xm\n",
        "    yhat=beta0+beta1*x\n",
        "    loss = np.sum((y-yhat)**2)\n",
        "    \n",
        "    return loss"
      ]
    },
    {
      "cell_type": "code",
      "source": [
        "result = {}\n",
        "for i in df.columns[:-1]:\n",
        "  result[i] = fit_linear_all(df[i].values,y)\n",
        "final_result = pd.DataFrame.from_dict(result, orient='index', columns=['Squared Loss'])\n",
        "final_result"
      ],
      "metadata": {
        "id": "GCvdq50egv2-",
        "outputId": "0efaf747-a872-41ff-d79a-e8dd81aedd9d",
        "colab": {
          "base_uri": "https://localhost:8080/",
          "height": 452
        }
      },
      "execution_count": 68,
      "outputs": [
        {
          "output_type": "execute_result",
          "data": {
            "text/html": [
              "\n",
              "  <div id=\"df-c9aba02c-c8c1-451e-83b2-65c1f4112db4\">\n",
              "    <div class=\"colab-df-container\">\n",
              "      <div>\n",
              "<style scoped>\n",
              "    .dataframe tbody tr th:only-of-type {\n",
              "        vertical-align: middle;\n",
              "    }\n",
              "\n",
              "    .dataframe tbody tr th {\n",
              "        vertical-align: top;\n",
              "    }\n",
              "\n",
              "    .dataframe thead th {\n",
              "        text-align: right;\n",
              "    }\n",
              "</style>\n",
              "<table border=\"1\" class=\"dataframe\">\n",
              "  <thead>\n",
              "    <tr style=\"text-align: right;\">\n",
              "      <th></th>\n",
              "      <th>Squared Loss</th>\n",
              "    </tr>\n",
              "  </thead>\n",
              "  <tbody>\n",
              "    <tr>\n",
              "      <th>CRIM</th>\n",
              "      <td>36275.512356</td>\n",
              "    </tr>\n",
              "    <tr>\n",
              "      <th>ZN</th>\n",
              "      <td>37166.558224</td>\n",
              "    </tr>\n",
              "    <tr>\n",
              "      <th>INDUS</th>\n",
              "      <td>32721.108150</td>\n",
              "    </tr>\n",
              "    <tr>\n",
              "      <th>CHAS</th>\n",
              "      <td>41404.216144</td>\n",
              "    </tr>\n",
              "    <tr>\n",
              "      <th>NOX</th>\n",
              "      <td>34916.169908</td>\n",
              "    </tr>\n",
              "    <tr>\n",
              "      <th>RM</th>\n",
              "      <td>22061.879196</td>\n",
              "    </tr>\n",
              "    <tr>\n",
              "      <th>AGE</th>\n",
              "      <td>36646.534350</td>\n",
              "    </tr>\n",
              "    <tr>\n",
              "      <th>DIS</th>\n",
              "      <td>40048.048843</td>\n",
              "    </tr>\n",
              "    <tr>\n",
              "      <th>RAD</th>\n",
              "      <td>36495.154812</td>\n",
              "    </tr>\n",
              "    <tr>\n",
              "      <th>TAX</th>\n",
              "      <td>33338.961320</td>\n",
              "    </tr>\n",
              "    <tr>\n",
              "      <th>PTRATIO</th>\n",
              "      <td>31702.013207</td>\n",
              "    </tr>\n",
              "    <tr>\n",
              "      <th>B</th>\n",
              "      <td>37966.409179</td>\n",
              "    </tr>\n",
              "    <tr>\n",
              "      <th>LSTAT</th>\n",
              "      <td>19472.381418</td>\n",
              "    </tr>\n",
              "  </tbody>\n",
              "</table>\n",
              "</div>\n",
              "      <button class=\"colab-df-convert\" onclick=\"convertToInteractive('df-c9aba02c-c8c1-451e-83b2-65c1f4112db4')\"\n",
              "              title=\"Convert this dataframe to an interactive table.\"\n",
              "              style=\"display:none;\">\n",
              "        \n",
              "  <svg xmlns=\"http://www.w3.org/2000/svg\" height=\"24px\"viewBox=\"0 0 24 24\"\n",
              "       width=\"24px\">\n",
              "    <path d=\"M0 0h24v24H0V0z\" fill=\"none\"/>\n",
              "    <path d=\"M18.56 5.44l.94 2.06.94-2.06 2.06-.94-2.06-.94-.94-2.06-.94 2.06-2.06.94zm-11 1L8.5 8.5l.94-2.06 2.06-.94-2.06-.94L8.5 2.5l-.94 2.06-2.06.94zm10 10l.94 2.06.94-2.06 2.06-.94-2.06-.94-.94-2.06-.94 2.06-2.06.94z\"/><path d=\"M17.41 7.96l-1.37-1.37c-.4-.4-.92-.59-1.43-.59-.52 0-1.04.2-1.43.59L10.3 9.45l-7.72 7.72c-.78.78-.78 2.05 0 2.83L4 21.41c.39.39.9.59 1.41.59.51 0 1.02-.2 1.41-.59l7.78-7.78 2.81-2.81c.8-.78.8-2.07 0-2.86zM5.41 20L4 18.59l7.72-7.72 1.47 1.35L5.41 20z\"/>\n",
              "  </svg>\n",
              "      </button>\n",
              "      \n",
              "  <style>\n",
              "    .colab-df-container {\n",
              "      display:flex;\n",
              "      flex-wrap:wrap;\n",
              "      gap: 12px;\n",
              "    }\n",
              "\n",
              "    .colab-df-convert {\n",
              "      background-color: #E8F0FE;\n",
              "      border: none;\n",
              "      border-radius: 50%;\n",
              "      cursor: pointer;\n",
              "      display: none;\n",
              "      fill: #1967D2;\n",
              "      height: 32px;\n",
              "      padding: 0 0 0 0;\n",
              "      width: 32px;\n",
              "    }\n",
              "\n",
              "    .colab-df-convert:hover {\n",
              "      background-color: #E2EBFA;\n",
              "      box-shadow: 0px 1px 2px rgba(60, 64, 67, 0.3), 0px 1px 3px 1px rgba(60, 64, 67, 0.15);\n",
              "      fill: #174EA6;\n",
              "    }\n",
              "\n",
              "    [theme=dark] .colab-df-convert {\n",
              "      background-color: #3B4455;\n",
              "      fill: #D2E3FC;\n",
              "    }\n",
              "\n",
              "    [theme=dark] .colab-df-convert:hover {\n",
              "      background-color: #434B5C;\n",
              "      box-shadow: 0px 1px 3px 1px rgba(0, 0, 0, 0.15);\n",
              "      filter: drop-shadow(0px 1px 2px rgba(0, 0, 0, 0.3));\n",
              "      fill: #FFFFFF;\n",
              "    }\n",
              "  </style>\n",
              "\n",
              "      <script>\n",
              "        const buttonEl =\n",
              "          document.querySelector('#df-c9aba02c-c8c1-451e-83b2-65c1f4112db4 button.colab-df-convert');\n",
              "        buttonEl.style.display =\n",
              "          google.colab.kernel.accessAllowed ? 'block' : 'none';\n",
              "\n",
              "        async function convertToInteractive(key) {\n",
              "          const element = document.querySelector('#df-c9aba02c-c8c1-451e-83b2-65c1f4112db4');\n",
              "          const dataTable =\n",
              "            await google.colab.kernel.invokeFunction('convertToInteractive',\n",
              "                                                     [key], {});\n",
              "          if (!dataTable) return;\n",
              "\n",
              "          const docLinkHtml = 'Like what you see? Visit the ' +\n",
              "            '<a target=\"_blank\" href=https://colab.research.google.com/notebooks/data_table.ipynb>data table notebook</a>'\n",
              "            + ' to learn more about interactive tables.';\n",
              "          element.innerHTML = '';\n",
              "          dataTable['output_type'] = 'display_data';\n",
              "          await google.colab.output.renderOutput(dataTable, element);\n",
              "          const docLink = document.createElement('div');\n",
              "          docLink.innerHTML = docLinkHtml;\n",
              "          element.appendChild(docLink);\n",
              "        }\n",
              "      </script>\n",
              "    </div>\n",
              "  </div>\n",
              "  "
            ],
            "text/plain": [
              "         Squared Loss\n",
              "CRIM     36275.512356\n",
              "ZN       37166.558224\n",
              "INDUS    32721.108150\n",
              "CHAS     41404.216144\n",
              "NOX      34916.169908\n",
              "RM       22061.879196\n",
              "AGE      36646.534350\n",
              "DIS      40048.048843\n",
              "RAD      36495.154812\n",
              "TAX      33338.961320\n",
              "PTRATIO  31702.013207\n",
              "B        37966.409179\n",
              "LSTAT    19472.381418"
            ]
          },
          "metadata": {},
          "execution_count": 68
        }
      ]
    },
    {
      "cell_type": "markdown",
      "source": [
        "## According to the errors in above table we can say that <b>LSTAT</b> does the best job of predicting house prices.\n",
        "\n",
        "## The most predictive variable here is LSTAT which is the percentage lower status of the population"
      ],
      "metadata": {
        "id": "4X8VePGV80i6"
      }
    },
    {
      "cell_type": "markdown",
      "source": [
        "**TODO:** Describe in words the meaning of the most predictive variable for housing price. You might need to do some Googling to figure out what it means. "
      ],
      "metadata": {
        "id": "MEhPnx9lAtb_"
      }
    },
    {
      "cell_type": "markdown",
      "metadata": {
        "id": "XjN9H2pa82YZ"
      },
      "source": [
        "# Part 3:  Compare different loss functions\n",
        "\n",
        "## A Brute force algorithm for squared loss\n",
        "\n",
        "Your code in `fit_linear` relies on the closed form expressions for the optimal $\\beta_0$ and $\\beta_1$, which we derived in class. However, if you did not know these formulas, you could have approximately minimized the loss function by brute force searching over a grid of possible values for $\\beta_0$ and $\\beta_1$. This idea was suggested by a student in our class. \n",
        "\n",
        "For example, we could try out all combinations of parameters where $\\beta_0$ is in `np.arange(-50,50,1)` and $\\beta_1$ is in `np.arange(-10,10,.1)`"
      ]
    },
    {
      "cell_type": "markdown",
      "metadata": {
        "id": "_3wMpT1b82YZ"
      },
      "source": [
        "Write a function which takes this approach to find a $\\beta_0$ and $\\beta_1$ which approximately minimize the squared loss: $\\sum_{i=1}^n (y_i - \\beta_0 - \\beta_1 x)^2$"
      ]
    },
    {
      "cell_type": "code",
      "execution_count": 69,
      "metadata": {
        "id": "xM5-ccw382YZ"
      },
      "outputs": [],
      "source": [
        "def fit_approx(x,y):\n",
        "    \"\"\"\n",
        "    Given vectors of data points (x,y), performs an *approximate* fit for the linear model:\n",
        "       y = beta0 + beta1*x, \n",
        "    under the sum-of-squares loss. The min_loss returned is the lost of the best beta0 and beta1 you found.\n",
        "    \"\"\"\n",
        "    # TODO complete the following code\n",
        "    beta0 = 0\n",
        "    beta1 = 0\n",
        "    min_loss = float(\"inf\")\n",
        "    for b0 in range(-50,50,1):\n",
        "      for b1 in range(-10,10,1):\n",
        "        y_pred = b0 + b1*x\n",
        "        loss = np.sum((y-y_pred)**2)\n",
        "        if loss < min_loss:\n",
        "          min_loss = loss\n",
        "          beta0 = b0\n",
        "          beta1 = b1    \n",
        "    return beta0, beta1, min_loss"
      ]
    },
    {
      "cell_type": "markdown",
      "metadata": {
        "id": "L7xf8hw082YZ"
      },
      "source": [
        "Compare the output of `fit_approx` and `fit_linear` with `y` being `PRICE` and `x` being the `LSTAT` variable from our dataset. You should do so:\n",
        "* quantitatively, by printing the loss that each approach achieves\n",
        "* and visually, by plotting the different fit lines obtained."
      ]
    },
    {
      "cell_type": "code",
      "source": [
        "q = df['PRICE'].values\n",
        "r = df['LSTAT'].values\n",
        "beta00, beta11, loss11 = fit_linear(q,r)\n",
        "ypred12 = beta11*r + beta00\n",
        "\n",
        "plt.plot(q,r,'o')                    # Plot the data points\n",
        "plt.plot(q,ypred12,'-',linewidth=3)  # Plot the regression line (the predicted values)\n",
        "plt.xlabel('Avg Number of Rooms in each Census Track')\n",
        "plt.ylabel('Price of the Houses')\n",
        "plt.grid(True)"
      ],
      "metadata": {
        "id": "k2conJOw_btT",
        "outputId": "acd388da-0234-4617-ec52-e495bc2e21b4",
        "colab": {
          "base_uri": "https://localhost:8080/",
          "height": 279
        }
      },
      "execution_count": 70,
      "outputs": [
        {
          "output_type": "display_data",
          "data": {
            "image/png": "[encoded data removed]",
            "text/plain": [
              "<Figure size 432x288 with 1 Axes>"
            ]
          },
          "metadata": {
            "needs_background": "light"
          }
        }
      ]
    },
    {
      "cell_type": "code",
      "source": [
        "beta01, beta11, loss1 = fit_approx(q,r)\n",
        "ypred1 = beta11*r + beta01\n",
        "\n",
        "plt.plot(q,r,'o')                    # Plot the data points\n",
        "plt.plot(q,ypred1,'-',linewidth=3)  # Plot the regression line (the predicted values)\n",
        "plt.xlabel('Percentage of lower status')\n",
        "plt.ylabel('Price of the Houses')\n",
        "plt.grid(True)"
      ],
      "metadata": {
        "id": "oy6NFOhuAm28",
        "outputId": "91f1e591-84f1-4895-d517-a26aa6d55c1f",
        "colab": {
          "base_uri": "https://localhost:8080/",
          "height": 283
        }
      },
      "execution_count": 71,
      "outputs": [
        {
          "output_type": "display_data",
          "data": {
            "image/png": "[encoded data removed]",
            "text/plain": [
              "<Figure size 432x288 with 1 Axes>"
            ]
          },
          "metadata": {
            "needs_background": "light"
          }
        }
      ]
    },
    {
      "cell_type": "markdown",
      "metadata": {
        "id": "spb3y0i882YZ"
      },
      "source": [
        "## Extending to different loss functions\n",
        "\n",
        "---\n",
        "\n",
        "One benefit of the above approach is that is easily extends to different loss funtions. Write functions which find an approximately optimal $\\beta_0$ and $\\beta_1$ for\n",
        "* minimizing the $\\ell_1$ (least absolute deviations) loss: $\\sum_{i=1}^n |y_i - \\beta_0 - \\beta_1 x|$ \n",
        "* minimizing the $\\ell_\\infty$ (max) loss: $\\max_i |y_i - \\beta_0 - \\beta_1 x|$\n"
      ]
    },
    {
      "cell_type": "code",
      "execution_count": 72,
      "metadata": {
        "id": "pu5H4-pM82YZ"
      },
      "outputs": [],
      "source": [
        "def fit_approx_l1(x,y):\n",
        "    \"\"\"Given vectors of data points (x,y), performs an *approximate* fit for the linear model:\n",
        "       y = beta0 + beta1*x, \n",
        "    under the least absolute deviations loss.\"\"\"\n",
        "    # TODO complete the following code\n",
        "    beta0 = 0\n",
        "    beta1 = 0\n",
        "    min_loss = float(\"inf\")\n",
        "    for b0 in range(-50,50,1):\n",
        "      for b1 in range(-10,10,1):\n",
        "        y_pred = b0 + b1*x\n",
        "        loss = np.sum(np.abs(y-y_pred))\n",
        "        if loss < min_loss:\n",
        "          min_loss = loss\n",
        "          beta0 = b0\n",
        "          beta1 = b1    \n",
        "    return beta0, beta1, min_loss"
      ]
    },
    {
      "cell_type": "code",
      "execution_count": 73,
      "metadata": {
        "id": "_8g0HgL582YZ"
      },
      "outputs": [],
      "source": [
        "def fit_approx_max(x,y):\n",
        "    \"\"\"\n",
        "    Given vectors of data points (x,y), performs an *approximate* fit for the linear model:\n",
        "       y = beta0 + beta1*x, \n",
        "    under the max loss.\n",
        "    \"\"\"\n",
        "    # TODO complete the following code\n",
        "    beta0 = 0\n",
        "    beta1 = 0\n",
        "    min_loss = float(\"inf\")\n",
        "    for b0 in range(-50,50,1):\n",
        "      for b1 in range(-10,10,1):\n",
        "        y_pred = b0 + b1*x\n",
        "        loss = np.max(np.abs(y-y_pred))\n",
        "        if loss < min_loss:\n",
        "          min_loss = loss\n",
        "          beta0 = b0\n",
        "          beta1 = b1    \n",
        "    return beta0, beta1, min_loss"
      ]
    },
    {
      "cell_type": "markdown",
      "metadata": {
        "id": "Oi444lua82YZ"
      },
      "source": [
        "Use your algorithm to obtain 3 different linear fits for `PRICE` with predictor variable `LSTAT`, one for squared loss, one for $\\ell_1$ loss, and one for $\\ell_\\infty$ loss. Plot the linear fits (along with the data scatter plot) on a single figure and use a legend to indicate which fit corresponds to which loss."
      ]
    },
    {
      "cell_type": "code",
      "execution_count": 74,
      "metadata": {
        "id": "_MqNQ1Lo82YZ"
      },
      "outputs": [],
      "source": [
        "a = df['PRICE'].values\n",
        "b = df['LSTAT'].values\n",
        "loss_1 = fit_approx(a,b)\n",
        "loss_2 = fit_approx_l1(a,b)\n",
        "loss_3 = fit_approx_max(a,b)"
      ]
    },
    {
      "cell_type": "code",
      "source": [
        "plt.plot(loss_1, label = \"Squared Loss\")\n",
        "plt.plot(loss_2, label = \"Least Absolute Deviation Loss\")\n",
        "plt.plot(loss_3, label = \"Max Loss\")\n",
        "plt.legend()"
      ],
      "metadata": {
        "id": "BmYhoBDh999Y",
        "outputId": "10b8a8b1-f004-4c06-aba2-721db3cb66bb",
        "colab": {
          "base_uri": "https://localhost:8080/",
          "height": 282
        }
      },
      "execution_count": 77,
      "outputs": [
        {
          "output_type": "execute_result",
          "data": {
            "text/plain": [
              "<matplotlib.legend.Legend at 0x7fbb24456e10>"
            ]
          },
          "metadata": {},
          "execution_count": 77
        },
        {
          "output_type": "display_data",
          "data": {
            "image/png": "[encoded data removed]",
            "text/plain": [
              "<Figure size 432x288 with 1 Axes>"
            ]
          },
          "metadata": {
            "needs_background": "light"
          }
        }
      ]
    },
    {
      "cell_type": "code",
      "source": [
        ""
      ],
      "metadata": {
        "id": "0QGILTCZDxLa"
      },
      "execution_count": null,
      "outputs": []
    }
  ],
  "metadata": {
    "anaconda-cloud": {},
    "kernelspec": {
      "display_name": "Python 3",
      "language": "python",
      "name": "python3"
    },
    "language_info": {
      "codemirror_mode": {
        "name": "ipython",
        "version": 3
      },
      "file_extension": ".py",
      "mimetype": "text/x-python",
      "name": "python",
      "nbconvert_exporter": "python",
      "pygments_lexer": "ipython3",
      "version": "3.7.4"
    },
    "colab": {
      "name": "lab1.ipynb",
      "provenance": [],
      "collapsed_sections": [],
      "include_colab_link": true
    }
  },
  "nbformat": 4,
  "nbformat_minor": 0
}