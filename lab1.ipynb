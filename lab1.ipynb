{
  "cells": [
    {
      "cell_type": "markdown",
      "metadata": {
        "id": "view-in-github",
        "colab_type": "text"
      },
      "source": [
        "<a href=\"https://colab.research.google.com/github/VishalShah1999/Machine-Learning/blob/main/lab1.ipynb\" target=\"_parent\"><img src=\"https://colab.research.google.com/assets/colab-badge.svg\" alt=\"Open In Colab\"/></a>"
      ]
    },
    {
      "cell_type": "markdown",
      "metadata": {
        "id": "1wOHgOlL82YP"
      },
      "source": [
        "# Part 1:  Simple linear regression for one independent variable\n",
        "\n",
        "In this lab, you will load data, plot data, perform simple mathematical manipulations, and fit a simple linear regression model.  Before doing this lab, you can go through the class demo on simple linear regression for an automobile dataset.  The lab use the Boston housing data set, a widely-used machine learning data set for illustrating basic concepts.  "
      ]
    },
    {
      "cell_type": "markdown",
      "metadata": {
        "collapsed": true,
        "id": "BQfs8r8882YS"
      },
      "source": [
        "## Loading the data\n",
        "\n",
        "The Boston housing data set was collected in the 1970s to study the relationship between house price and various factors such as the house size, crime rate, socio-economic status, etc.  Since the variables are easy to understand, the data set is ideal for learning basic concepts in machine learning.  The raw data and a complete description of the dataset can be found on the UCI website:\n",
        "\n",
        "https://archive.ics.uci.edu/ml/machine-learning-databases/housing/\n",
        "\n",
        "Each row in the dataset it not a single house -- it corresponds to the average information about homes in a single single [census track](https://en.wikipedia.org/wiki/Census_tract).\n",
        "\n",
        "In the lab, you will complete all the code marked `TODO`. \n",
        "\n",
        "First, complete the following code that uses the `pd.read_csv` command to read the data from the file located at\n",
        "\n",
        "https://archive.ics.uci.edu/ml/machine-learning-databases/housing/housing.data\n",
        "\n",
        "I have supplied a list `names` of the column headers.  You will have to set the options in the `read_csv` command to correctly delimit the data in the file and name the columns correctly."
      ]
    },
    {
      "cell_type": "code",
      "execution_count": 1,
      "metadata": {
        "id": "ri1lo0uf82YS"
      },
      "outputs": [],
      "source": [
        "import pandas as pd\n",
        "import numpy as np\n",
        "colnames =[\n",
        "    'CRIM', 'ZN', 'INDUS', 'CHAS', 'NOX', 'RM', \n",
        "    'AGE',  'DIS', 'RAD', 'TAX', 'PTRATIO', 'B', 'LSTAT', 'PRICE'\n",
        "]\n",
        "\n",
        "# TODO:  Complete the code\n",
        "df = pd.read_csv('https://archive.ics.uci.edu/ml/machine-learning-databases/housing/housing.data', header=None, delim_whitespace=True, names=colnames, na_values='?')"
      ]
    },
    {
      "cell_type": "code",
      "source": [
        "df"
      ],
      "metadata": {
        "colab": {
          "base_uri": "https://localhost:8080/",
          "height": 419
        },
        "id": "v9xBnaSGNZ3K",
        "outputId": "a31301dd-564f-4848-b178-00377c04f9af"
      },
      "execution_count": 2,
      "outputs": [
        {
          "output_type": "execute_result",
          "data": {
            "text/html": [
              "\n",
              "  <div id=\"df-12bf03a6-685f-4d83-8f12-ccbf6f8856c9\">\n",
              "    <div class=\"colab-df-container\">\n",
              "      <div>\n",
              "<style scoped>\n",
              "    .dataframe tbody tr th:only-of-type {\n",
              "        vertical-align: middle;\n",
              "    }\n",
              "\n",
              "    .dataframe tbody tr th {\n",
              "        vertical-align: top;\n",
              "    }\n",
              "\n",
              "    .dataframe thead th {\n",
              "        text-align: right;\n",
              "    }\n",
              "</style>\n",
              "<table border=\"1\" class=\"dataframe\">\n",
              "  <thead>\n",
              "    <tr style=\"text-align: right;\">\n",
              "      <th></th>\n",
              "      <th>CRIM</th>\n",
              "      <th>ZN</th>\n",
              "      <th>INDUS</th>\n",
              "      <th>CHAS</th>\n",
              "      <th>NOX</th>\n",
              "      <th>RM</th>\n",
              "      <th>AGE</th>\n",
              "      <th>DIS</th>\n",
              "      <th>RAD</th>\n",
              "      <th>TAX</th>\n",
              "      <th>PTRATIO</th>\n",
              "      <th>B</th>\n",
              "      <th>LSTAT</th>\n",
              "      <th>PRICE</th>\n",
              "    </tr>\n",
              "  </thead>\n",
              "  <tbody>\n",
              "    <tr>\n",
              "      <th>0</th>\n",
              "      <td>0.00632</td>\n",
              "      <td>18.0</td>\n",
              "      <td>2.31</td>\n",
              "      <td>0</td>\n",
              "      <td>0.538</td>\n",
              "      <td>6.575</td>\n",
              "      <td>65.2</td>\n",
              "      <td>4.0900</td>\n",
              "      <td>1</td>\n",
              "      <td>296.0</td>\n",
              "      <td>15.3</td>\n",
              "      <td>396.90</td>\n",
              "      <td>4.98</td>\n",
              "      <td>24.0</td>\n",
              "    </tr>\n",
              "    <tr>\n",
              "      <th>1</th>\n",
              "      <td>0.02731</td>\n",
              "      <td>0.0</td>\n",
              "      <td>7.07</td>\n",
              "      <td>0</td>\n",
              "      <td>0.469</td>\n",
              "      <td>6.421</td>\n",
              "      <td>78.9</td>\n",
              "      <td>4.9671</td>\n",
              "      <td>2</td>\n",
              "      <td>242.0</td>\n",
              "      <td>17.8</td>\n",
              "      <td>396.90</td>\n",
              "      <td>9.14</td>\n",
              "      <td>21.6</td>\n",
              "    </tr>\n",
              "    <tr>\n",
              "      <th>2</th>\n",
              "      <td>0.02729</td>\n",
              "      <td>0.0</td>\n",
              "      <td>7.07</td>\n",
              "      <td>0</td>\n",
              "      <td>0.469</td>\n",
              "      <td>7.185</td>\n",
              "      <td>61.1</td>\n",
              "      <td>4.9671</td>\n",
              "      <td>2</td>\n",
              "      <td>242.0</td>\n",
              "      <td>17.8</td>\n",
              "      <td>392.83</td>\n",
              "      <td>4.03</td>\n",
              "      <td>34.7</td>\n",
              "    </tr>\n",
              "    <tr>\n",
              "      <th>3</th>\n",
              "      <td>0.03237</td>\n",
              "      <td>0.0</td>\n",
              "      <td>2.18</td>\n",
              "      <td>0</td>\n",
              "      <td>0.458</td>\n",
              "      <td>6.998</td>\n",
              "      <td>45.8</td>\n",
              "      <td>6.0622</td>\n",
              "      <td>3</td>\n",
              "      <td>222.0</td>\n",
              "      <td>18.7</td>\n",
              "      <td>394.63</td>\n",
              "      <td>2.94</td>\n",
              "      <td>33.4</td>\n",
              "    </tr>\n",
              "    <tr>\n",
              "      <th>4</th>\n",
              "      <td>0.06905</td>\n",
              "      <td>0.0</td>\n",
              "      <td>2.18</td>\n",
              "      <td>0</td>\n",
              "      <td>0.458</td>\n",
              "      <td>7.147</td>\n",
              "      <td>54.2</td>\n",
              "      <td>6.0622</td>\n",
              "      <td>3</td>\n",
              "      <td>222.0</td>\n",
              "      <td>18.7</td>\n",
              "      <td>396.90</td>\n",
              "      <td>5.33</td>\n",
              "      <td>36.2</td>\n",
              "    </tr>\n",
              "    <tr>\n",
              "      <th>...</th>\n",
              "      <td>...</td>\n",
              "      <td>...</td>\n",
              "      <td>...</td>\n",
              "      <td>...</td>\n",
              "      <td>...</td>\n",
              "      <td>...</td>\n",
              "      <td>...</td>\n",
              "      <td>...</td>\n",
              "      <td>...</td>\n",
              "      <td>...</td>\n",
              "      <td>...</td>\n",
              "      <td>...</td>\n",
              "      <td>...</td>\n",
              "      <td>...</td>\n",
              "    </tr>\n",
              "    <tr>\n",
              "      <th>501</th>\n",
              "      <td>0.06263</td>\n",
              "      <td>0.0</td>\n",
              "      <td>11.93</td>\n",
              "      <td>0</td>\n",
              "      <td>0.573</td>\n",
              "      <td>6.593</td>\n",
              "      <td>69.1</td>\n",
              "      <td>2.4786</td>\n",
              "      <td>1</td>\n",
              "      <td>273.0</td>\n",
              "      <td>21.0</td>\n",
              "      <td>391.99</td>\n",
              "      <td>9.67</td>\n",
              "      <td>22.4</td>\n",
              "    </tr>\n",
              "    <tr>\n",
              "      <th>502</th>\n",
              "      <td>0.04527</td>\n",
              "      <td>0.0</td>\n",
              "      <td>11.93</td>\n",
              "      <td>0</td>\n",
              "      <td>0.573</td>\n",
              "      <td>6.120</td>\n",
              "      <td>76.7</td>\n",
              "      <td>2.2875</td>\n",
              "      <td>1</td>\n",
              "      <td>273.0</td>\n",
              "      <td>21.0</td>\n",
              "      <td>396.90</td>\n",
              "      <td>9.08</td>\n",
              "      <td>20.6</td>\n",
              "    </tr>\n",
              "    <tr>\n",
              "      <th>503</th>\n",
              "      <td>0.06076</td>\n",
              "      <td>0.0</td>\n",
              "      <td>11.93</td>\n",
              "      <td>0</td>\n",
              "      <td>0.573</td>\n",
              "      <td>6.976</td>\n",
              "      <td>91.0</td>\n",
              "      <td>2.1675</td>\n",
              "      <td>1</td>\n",
              "      <td>273.0</td>\n",
              "      <td>21.0</td>\n",
              "      <td>396.90</td>\n",
              "      <td>5.64</td>\n",
              "      <td>23.9</td>\n",
              "    </tr>\n",
              "    <tr>\n",
              "      <th>504</th>\n",
              "      <td>0.10959</td>\n",
              "      <td>0.0</td>\n",
              "      <td>11.93</td>\n",
              "      <td>0</td>\n",
              "      <td>0.573</td>\n",
              "      <td>6.794</td>\n",
              "      <td>89.3</td>\n",
              "      <td>2.3889</td>\n",
              "      <td>1</td>\n",
              "      <td>273.0</td>\n",
              "      <td>21.0</td>\n",
              "      <td>393.45</td>\n",
              "      <td>6.48</td>\n",
              "      <td>22.0</td>\n",
              "    </tr>\n",
              "    <tr>\n",
              "      <th>505</th>\n",
              "      <td>0.04741</td>\n",
              "      <td>0.0</td>\n",
              "      <td>11.93</td>\n",
              "      <td>0</td>\n",
              "      <td>0.573</td>\n",
              "      <td>6.030</td>\n",
              "      <td>80.8</td>\n",
              "      <td>2.5050</td>\n",
              "      <td>1</td>\n",
              "      <td>273.0</td>\n",
              "      <td>21.0</td>\n",
              "      <td>396.90</td>\n",
              "      <td>7.88</td>\n",
              "      <td>11.9</td>\n",
              "    </tr>\n",
              "  </tbody>\n",
              "</table>\n",
              "<p>506 rows × 14 columns</p>\n",
              "</div>\n",
              "      <button class=\"colab-df-convert\" onclick=\"convertToInteractive('df-12bf03a6-685f-4d83-8f12-ccbf6f8856c9')\"\n",
              "              title=\"Convert this dataframe to an interactive table.\"\n",
              "              style=\"display:none;\">\n",
              "        \n",
              "  <svg xmlns=\"http://www.w3.org/2000/svg\" height=\"24px\"viewBox=\"0 0 24 24\"\n",
              "       width=\"24px\">\n",
              "    <path d=\"M0 0h24v24H0V0z\" fill=\"none\"/>\n",
              "    <path d=\"M18.56 5.44l.94 2.06.94-2.06 2.06-.94-2.06-.94-.94-2.06-.94 2.06-2.06.94zm-11 1L8.5 8.5l.94-2.06 2.06-.94-2.06-.94L8.5 2.5l-.94 2.06-2.06.94zm10 10l.94 2.06.94-2.06 2.06-.94-2.06-.94-.94-2.06-.94 2.06-2.06.94z\"/><path d=\"M17.41 7.96l-1.37-1.37c-.4-.4-.92-.59-1.43-.59-.52 0-1.04.2-1.43.59L10.3 9.45l-7.72 7.72c-.78.78-.78 2.05 0 2.83L4 21.41c.39.39.9.59 1.41.59.51 0 1.02-.2 1.41-.59l7.78-7.78 2.81-2.81c.8-.78.8-2.07 0-2.86zM5.41 20L4 18.59l7.72-7.72 1.47 1.35L5.41 20z\"/>\n",
              "  </svg>\n",
              "      </button>\n",
              "      \n",
              "  <style>\n",
              "    .colab-df-container {\n",
              "      display:flex;\n",
              "      flex-wrap:wrap;\n",
              "      gap: 12px;\n",
              "    }\n",
              "\n",
              "    .colab-df-convert {\n",
              "      background-color: #E8F0FE;\n",
              "      border: none;\n",
              "      border-radius: 50%;\n",
              "      cursor: pointer;\n",
              "      display: none;\n",
              "      fill: #1967D2;\n",
              "      height: 32px;\n",
              "      padding: 0 0 0 0;\n",
              "      width: 32px;\n",
              "    }\n",
              "\n",
              "    .colab-df-convert:hover {\n",
              "      background-color: #E2EBFA;\n",
              "      box-shadow: 0px 1px 2px rgba(60, 64, 67, 0.3), 0px 1px 3px 1px rgba(60, 64, 67, 0.15);\n",
              "      fill: #174EA6;\n",
              "    }\n",
              "\n",
              "    [theme=dark] .colab-df-convert {\n",
              "      background-color: #3B4455;\n",
              "      fill: #D2E3FC;\n",
              "    }\n",
              "\n",
              "    [theme=dark] .colab-df-convert:hover {\n",
              "      background-color: #434B5C;\n",
              "      box-shadow: 0px 1px 3px 1px rgba(0, 0, 0, 0.15);\n",
              "      filter: drop-shadow(0px 1px 2px rgba(0, 0, 0, 0.3));\n",
              "      fill: #FFFFFF;\n",
              "    }\n",
              "  </style>\n",
              "\n",
              "      <script>\n",
              "        const buttonEl =\n",
              "          document.querySelector('#df-12bf03a6-685f-4d83-8f12-ccbf6f8856c9 button.colab-df-convert');\n",
              "        buttonEl.style.display =\n",
              "          google.colab.kernel.accessAllowed ? 'block' : 'none';\n",
              "\n",
              "        async function convertToInteractive(key) {\n",
              "          const element = document.querySelector('#df-12bf03a6-685f-4d83-8f12-ccbf6f8856c9');\n",
              "          const dataTable =\n",
              "            await google.colab.kernel.invokeFunction('convertToInteractive',\n",
              "                                                     [key], {});\n",
              "          if (!dataTable) return;\n",
              "\n",
              "          const docLinkHtml = 'Like what you see? Visit the ' +\n",
              "            '<a target=\"_blank\" href=https://colab.research.google.com/notebooks/data_table.ipynb>data table notebook</a>'\n",
              "            + ' to learn more about interactive tables.';\n",
              "          element.innerHTML = '';\n",
              "          dataTable['output_type'] = 'display_data';\n",
              "          await google.colab.output.renderOutput(dataTable, element);\n",
              "          const docLink = document.createElement('div');\n",
              "          docLink.innerHTML = docLinkHtml;\n",
              "          element.appendChild(docLink);\n",
              "        }\n",
              "      </script>\n",
              "    </div>\n",
              "  </div>\n",
              "  "
            ],
            "text/plain": [
              "        CRIM    ZN  INDUS  CHAS    NOX  ...    TAX  PTRATIO       B  LSTAT  PRICE\n",
              "0    0.00632  18.0   2.31     0  0.538  ...  296.0     15.3  396.90   4.98   24.0\n",
              "1    0.02731   0.0   7.07     0  0.469  ...  242.0     17.8  396.90   9.14   21.6\n",
              "2    0.02729   0.0   7.07     0  0.469  ...  242.0     17.8  392.83   4.03   34.7\n",
              "3    0.03237   0.0   2.18     0  0.458  ...  222.0     18.7  394.63   2.94   33.4\n",
              "4    0.06905   0.0   2.18     0  0.458  ...  222.0     18.7  396.90   5.33   36.2\n",
              "..       ...   ...    ...   ...    ...  ...    ...      ...     ...    ...    ...\n",
              "501  0.06263   0.0  11.93     0  0.573  ...  273.0     21.0  391.99   9.67   22.4\n",
              "502  0.04527   0.0  11.93     0  0.573  ...  273.0     21.0  396.90   9.08   20.6\n",
              "503  0.06076   0.0  11.93     0  0.573  ...  273.0     21.0  396.90   5.64   23.9\n",
              "504  0.10959   0.0  11.93     0  0.573  ...  273.0     21.0  393.45   6.48   22.0\n",
              "505  0.04741   0.0  11.93     0  0.573  ...  273.0     21.0  396.90   7.88   11.9\n",
              "\n",
              "[506 rows x 14 columns]"
            ]
          },
          "metadata": {},
          "execution_count": 2
        }
      ]
    },
    {
      "cell_type": "markdown",
      "metadata": {
        "id": "_LfapTGd82YT"
      },
      "source": [
        "Display the first six rows of the data frame"
      ]
    },
    {
      "cell_type": "code",
      "execution_count": 3,
      "metadata": {
        "id": "wntinQOm82YT",
        "colab": {
          "base_uri": "https://localhost:8080/",
          "height": 235
        },
        "outputId": "42d9c3f5-a7c7-4a32-f010-3aeede0f397b"
      },
      "outputs": [
        {
          "output_type": "execute_result",
          "data": {
            "text/html": [
              "\n",
              "  <div id=\"df-a87ab932-1f58-4c1f-bb93-e8c3fac45e62\">\n",
              "    <div class=\"colab-df-container\">\n",
              "      <div>\n",
              "<style scoped>\n",
              "    .dataframe tbody tr th:only-of-type {\n",
              "        vertical-align: middle;\n",
              "    }\n",
              "\n",
              "    .dataframe tbody tr th {\n",
              "        vertical-align: top;\n",
              "    }\n",
              "\n",
              "    .dataframe thead th {\n",
              "        text-align: right;\n",
              "    }\n",
              "</style>\n",
              "<table border=\"1\" class=\"dataframe\">\n",
              "  <thead>\n",
              "    <tr style=\"text-align: right;\">\n",
              "      <th></th>\n",
              "      <th>CRIM</th>\n",
              "      <th>ZN</th>\n",
              "      <th>INDUS</th>\n",
              "      <th>CHAS</th>\n",
              "      <th>NOX</th>\n",
              "      <th>RM</th>\n",
              "      <th>AGE</th>\n",
              "      <th>DIS</th>\n",
              "      <th>RAD</th>\n",
              "      <th>TAX</th>\n",
              "      <th>PTRATIO</th>\n",
              "      <th>B</th>\n",
              "      <th>LSTAT</th>\n",
              "      <th>PRICE</th>\n",
              "    </tr>\n",
              "  </thead>\n",
              "  <tbody>\n",
              "    <tr>\n",
              "      <th>0</th>\n",
              "      <td>0.00632</td>\n",
              "      <td>18.0</td>\n",
              "      <td>2.31</td>\n",
              "      <td>0</td>\n",
              "      <td>0.538</td>\n",
              "      <td>6.575</td>\n",
              "      <td>65.2</td>\n",
              "      <td>4.0900</td>\n",
              "      <td>1</td>\n",
              "      <td>296.0</td>\n",
              "      <td>15.3</td>\n",
              "      <td>396.90</td>\n",
              "      <td>4.98</td>\n",
              "      <td>24.0</td>\n",
              "    </tr>\n",
              "    <tr>\n",
              "      <th>1</th>\n",
              "      <td>0.02731</td>\n",
              "      <td>0.0</td>\n",
              "      <td>7.07</td>\n",
              "      <td>0</td>\n",
              "      <td>0.469</td>\n",
              "      <td>6.421</td>\n",
              "      <td>78.9</td>\n",
              "      <td>4.9671</td>\n",
              "      <td>2</td>\n",
              "      <td>242.0</td>\n",
              "      <td>17.8</td>\n",
              "      <td>396.90</td>\n",
              "      <td>9.14</td>\n",
              "      <td>21.6</td>\n",
              "    </tr>\n",
              "    <tr>\n",
              "      <th>2</th>\n",
              "      <td>0.02729</td>\n",
              "      <td>0.0</td>\n",
              "      <td>7.07</td>\n",
              "      <td>0</td>\n",
              "      <td>0.469</td>\n",
              "      <td>7.185</td>\n",
              "      <td>61.1</td>\n",
              "      <td>4.9671</td>\n",
              "      <td>2</td>\n",
              "      <td>242.0</td>\n",
              "      <td>17.8</td>\n",
              "      <td>392.83</td>\n",
              "      <td>4.03</td>\n",
              "      <td>34.7</td>\n",
              "    </tr>\n",
              "    <tr>\n",
              "      <th>3</th>\n",
              "      <td>0.03237</td>\n",
              "      <td>0.0</td>\n",
              "      <td>2.18</td>\n",
              "      <td>0</td>\n",
              "      <td>0.458</td>\n",
              "      <td>6.998</td>\n",
              "      <td>45.8</td>\n",
              "      <td>6.0622</td>\n",
              "      <td>3</td>\n",
              "      <td>222.0</td>\n",
              "      <td>18.7</td>\n",
              "      <td>394.63</td>\n",
              "      <td>2.94</td>\n",
              "      <td>33.4</td>\n",
              "    </tr>\n",
              "    <tr>\n",
              "      <th>4</th>\n",
              "      <td>0.06905</td>\n",
              "      <td>0.0</td>\n",
              "      <td>2.18</td>\n",
              "      <td>0</td>\n",
              "      <td>0.458</td>\n",
              "      <td>7.147</td>\n",
              "      <td>54.2</td>\n",
              "      <td>6.0622</td>\n",
              "      <td>3</td>\n",
              "      <td>222.0</td>\n",
              "      <td>18.7</td>\n",
              "      <td>396.90</td>\n",
              "      <td>5.33</td>\n",
              "      <td>36.2</td>\n",
              "    </tr>\n",
              "    <tr>\n",
              "      <th>5</th>\n",
              "      <td>0.02985</td>\n",
              "      <td>0.0</td>\n",
              "      <td>2.18</td>\n",
              "      <td>0</td>\n",
              "      <td>0.458</td>\n",
              "      <td>6.430</td>\n",
              "      <td>58.7</td>\n",
              "      <td>6.0622</td>\n",
              "      <td>3</td>\n",
              "      <td>222.0</td>\n",
              "      <td>18.7</td>\n",
              "      <td>394.12</td>\n",
              "      <td>5.21</td>\n",
              "      <td>28.7</td>\n",
              "    </tr>\n",
              "  </tbody>\n",
              "</table>\n",
              "</div>\n",
              "      <button class=\"colab-df-convert\" onclick=\"convertToInteractive('df-a87ab932-1f58-4c1f-bb93-e8c3fac45e62')\"\n",
              "              title=\"Convert this dataframe to an interactive table.\"\n",
              "              style=\"display:none;\">\n",
              "        \n",
              "  <svg xmlns=\"http://www.w3.org/2000/svg\" height=\"24px\"viewBox=\"0 0 24 24\"\n",
              "       width=\"24px\">\n",
              "    <path d=\"M0 0h24v24H0V0z\" fill=\"none\"/>\n",
              "    <path d=\"M18.56 5.44l.94 2.06.94-2.06 2.06-.94-2.06-.94-.94-2.06-.94 2.06-2.06.94zm-11 1L8.5 8.5l.94-2.06 2.06-.94-2.06-.94L8.5 2.5l-.94 2.06-2.06.94zm10 10l.94 2.06.94-2.06 2.06-.94-2.06-.94-.94-2.06-.94 2.06-2.06.94z\"/><path d=\"M17.41 7.96l-1.37-1.37c-.4-.4-.92-.59-1.43-.59-.52 0-1.04.2-1.43.59L10.3 9.45l-7.72 7.72c-.78.78-.78 2.05 0 2.83L4 21.41c.39.39.9.59 1.41.59.51 0 1.02-.2 1.41-.59l7.78-7.78 2.81-2.81c.8-.78.8-2.07 0-2.86zM5.41 20L4 18.59l7.72-7.72 1.47 1.35L5.41 20z\"/>\n",
              "  </svg>\n",
              "      </button>\n",
              "      \n",
              "  <style>\n",
              "    .colab-df-container {\n",
              "      display:flex;\n",
              "      flex-wrap:wrap;\n",
              "      gap: 12px;\n",
              "    }\n",
              "\n",
              "    .colab-df-convert {\n",
              "      background-color: #E8F0FE;\n",
              "      border: none;\n",
              "      border-radius: 50%;\n",
              "      cursor: pointer;\n",
              "      display: none;\n",
              "      fill: #1967D2;\n",
              "      height: 32px;\n",
              "      padding: 0 0 0 0;\n",
              "      width: 32px;\n",
              "    }\n",
              "\n",
              "    .colab-df-convert:hover {\n",
              "      background-color: #E2EBFA;\n",
              "      box-shadow: 0px 1px 2px rgba(60, 64, 67, 0.3), 0px 1px 3px 1px rgba(60, 64, 67, 0.15);\n",
              "      fill: #174EA6;\n",
              "    }\n",
              "\n",
              "    [theme=dark] .colab-df-convert {\n",
              "      background-color: #3B4455;\n",
              "      fill: #D2E3FC;\n",
              "    }\n",
              "\n",
              "    [theme=dark] .colab-df-convert:hover {\n",
              "      background-color: #434B5C;\n",
              "      box-shadow: 0px 1px 3px 1px rgba(0, 0, 0, 0.15);\n",
              "      filter: drop-shadow(0px 1px 2px rgba(0, 0, 0, 0.3));\n",
              "      fill: #FFFFFF;\n",
              "    }\n",
              "  </style>\n",
              "\n",
              "      <script>\n",
              "        const buttonEl =\n",
              "          document.querySelector('#df-a87ab932-1f58-4c1f-bb93-e8c3fac45e62 button.colab-df-convert');\n",
              "        buttonEl.style.display =\n",
              "          google.colab.kernel.accessAllowed ? 'block' : 'none';\n",
              "\n",
              "        async function convertToInteractive(key) {\n",
              "          const element = document.querySelector('#df-a87ab932-1f58-4c1f-bb93-e8c3fac45e62');\n",
              "          const dataTable =\n",
              "            await google.colab.kernel.invokeFunction('convertToInteractive',\n",
              "                                                     [key], {});\n",
              "          if (!dataTable) return;\n",
              "\n",
              "          const docLinkHtml = 'Like what you see? Visit the ' +\n",
              "            '<a target=\"_blank\" href=https://colab.research.google.com/notebooks/data_table.ipynb>data table notebook</a>'\n",
              "            + ' to learn more about interactive tables.';\n",
              "          element.innerHTML = '';\n",
              "          dataTable['output_type'] = 'display_data';\n",
              "          await google.colab.output.renderOutput(dataTable, element);\n",
              "          const docLink = document.createElement('div');\n",
              "          docLink.innerHTML = docLinkHtml;\n",
              "          element.appendChild(docLink);\n",
              "        }\n",
              "      </script>\n",
              "    </div>\n",
              "  </div>\n",
              "  "
            ],
            "text/plain": [
              "      CRIM    ZN  INDUS  CHAS    NOX  ...    TAX  PTRATIO       B  LSTAT  PRICE\n",
              "0  0.00632  18.0   2.31     0  0.538  ...  296.0     15.3  396.90   4.98   24.0\n",
              "1  0.02731   0.0   7.07     0  0.469  ...  242.0     17.8  396.90   9.14   21.6\n",
              "2  0.02729   0.0   7.07     0  0.469  ...  242.0     17.8  392.83   4.03   34.7\n",
              "3  0.03237   0.0   2.18     0  0.458  ...  222.0     18.7  394.63   2.94   33.4\n",
              "4  0.06905   0.0   2.18     0  0.458  ...  222.0     18.7  396.90   5.33   36.2\n",
              "5  0.02985   0.0   2.18     0  0.458  ...  222.0     18.7  394.12   5.21   28.7\n",
              "\n",
              "[6 rows x 14 columns]"
            ]
          },
          "metadata": {},
          "execution_count": 3
        }
      ],
      "source": [
        "# TODO\n",
        "df.head(6)"
      ]
    },
    {
      "cell_type": "markdown",
      "metadata": {
        "id": "QCtnTO4W82YU"
      },
      "source": [
        "## Basic Manipulations on the Data\n",
        "\n",
        "What is the shape of the data?  How many attributes are there?  How many samples?\n",
        "Print a statement of the form:\n",
        "\n",
        "    num samples=xxx, num attributes=yy"
      ]
    },
    {
      "cell_type": "code",
      "execution_count": 4,
      "metadata": {
        "id": "_RwUMg_P82YU",
        "colab": {
          "base_uri": "https://localhost:8080/"
        },
        "outputId": "caa14850-9288-4e67-c9e3-044fcbab3350"
      },
      "outputs": [
        {
          "output_type": "stream",
          "name": "stdout",
          "text": [
            "Samples 506  Attributes 14\n"
          ]
        }
      ],
      "source": [
        "# TODO\n",
        "shape = df.shape\n",
        "print(\"Samples\",shape[0], \" Attributes\",shape[1])"
      ]
    },
    {
      "cell_type": "markdown",
      "metadata": {
        "id": "0l54X2fn82YU"
      },
      "source": [
        "Create a response vector `y` with the values in the column `PRICE`.  The vector `y` should be a 1D `numpy.ndarray` structure."
      ]
    },
    {
      "cell_type": "code",
      "execution_count": 5,
      "metadata": {
        "id": "2XE4xs3P82YV"
      },
      "outputs": [],
      "source": [
        "# TODO\n",
        "y = df['PRICE'].values"
      ]
    },
    {
      "cell_type": "markdown",
      "metadata": {
        "id": "ck5d5fnf82YV"
      },
      "source": [
        "Use the response vector `y` to find the mean house price in thousands and the fraction of homes that are above $40k. (You may realize this is very cheap.  Prices have gone up a lot since the 1970s!). Print and label your results."
      ]
    },
    {
      "cell_type": "code",
      "execution_count": 6,
      "metadata": {
        "id": "CRPdVStC82YW",
        "colab": {
          "base_uri": "https://localhost:8080/"
        },
        "outputId": "6832f211-a64c-4ca3-fa99-2147023e95fe"
      },
      "outputs": [
        {
          "output_type": "stream",
          "name": "stdout",
          "text": [
            "Mean House Price :  22.532806324110677\n",
            "Fraction of House above 40k :  0.06126482213438735\n"
          ]
        }
      ],
      "source": [
        "# TODO\n",
        "house_mean = y.mean()\n",
        "c = 0\n",
        "for i in y:\n",
        "  if i <= 40:\n",
        "    c += 1\n",
        "print(\"Mean House Price : \",house_mean)\n",
        "print(\"Fraction of House above 40k : \",(shape[0]-c)/shape[0])"
      ]
    },
    {
      "cell_type": "markdown",
      "metadata": {
        "id": "WKV5d5N882YW"
      },
      "source": [
        "## Visualizing the Data\n",
        "\n",
        "Load the `matplotlib` package with the following commands."
      ]
    },
    {
      "cell_type": "code",
      "execution_count": 7,
      "metadata": {
        "id": "boqNOrZp82YW"
      },
      "outputs": [],
      "source": [
        "import matplotlib\n",
        "import matplotlib.pyplot as plt\n",
        "%matplotlib inline"
      ]
    },
    {
      "cell_type": "markdown",
      "metadata": {
        "id": "wV3xdlIP82YW"
      },
      "source": [
        "Similar to the `y` vector, create a predictor vector `x` containing the values in the `RM` column, which represents the average number of rooms in each census track."
      ]
    },
    {
      "cell_type": "code",
      "execution_count": 8,
      "metadata": {
        "id": "K-6zHpkC82YX"
      },
      "outputs": [],
      "source": [
        "# TODO\n",
        "x = df['RM'].values"
      ]
    },
    {
      "cell_type": "markdown",
      "metadata": {
        "id": "PfjeI4M982YX"
      },
      "source": [
        "Create a scatter plot of the price vs. the `RM` attribute.  Label the axes with reasonable labels so that someone else can understand the plot."
      ]
    },
    {
      "cell_type": "code",
      "execution_count": 9,
      "metadata": {
        "id": "8ohcQaqj82YX",
        "colab": {
          "base_uri": "https://localhost:8080/",
          "height": 312
        },
        "outputId": "9e3db451-3f3c-4528-d98c-d46d83045135"
      },
      "outputs": [
        {
          "output_type": "execute_result",
          "data": {
            "text/plain": [
              "Text(0, 0.5, 'Price of the Houses')"
            ]
          },
          "metadata": {},
          "execution_count": 9
        },
        {
          "output_type": "display_data",
          "data": {
            "image/png": "[encoded data removed]",
            "text/plain": [
              "<Figure size 432x288 with 1 Axes>"
            ]
          },
          "metadata": {
            "needs_background": "light"
          }
        }
      ],
      "source": [
        "# TODO\n",
        "plt.scatter(x,y)\n",
        "plt.title('House Prices based on Avg Rooms')\n",
        "plt.xlabel('Avg Number of Rooms in each Census Track')\n",
        "plt.ylabel('Price of the Houses')"
      ]
    },
    {
      "cell_type": "markdown",
      "metadata": {
        "id": "A4Bq2-MS82YX"
      },
      "source": [
        "## Fitting a Simple Linear Model\n",
        "\n",
        "We will write a simple function to perform a linear fit under the squared loss function. Use the formulae given in the class to compute the optimal parameters $\\beta_0,\\beta_1$ in the linear model $$y =\\beta_0 + \\beta_1 x$$ as well as the optimal loss $\\sum_{i=1}^n (y_i - \\beta_0 - \\beta_1 x)^2$."
      ]
    },
    {
      "cell_type": "code",
      "execution_count": 10,
      "metadata": {
        "id": "f1KClvuZ82YX"
      },
      "outputs": [],
      "source": [
        "def fit_linear(x,y):\n",
        "    \"\"\"\n",
        "    Given vectors of data points (x,y), performs a fit for the linear model:\n",
        "       y = beta0 + beta1*x, \n",
        "    The function returns beta0, beta1, and loss, where loss is the sum-of-squares loss of.\n",
        "    \"\"\"\n",
        "    # TODO complete the following code\n",
        "    xm = np.mean(x)\n",
        "    ym = np.mean(y)\n",
        "    syx = np.mean((y-ym)*(x-xm))\n",
        "    sxx = np.mean((x-xm)**2)\n",
        "    syy = np.mean((y-ym)**2)\n",
        "    beta1 = syx/sxx\n",
        "    beta0 = ym - beta1*xm\n",
        "    yhat=beta0+beta1*x\n",
        "    loss = np.sum((y-yhat)**2)\n",
        "    \n",
        "    return beta0, beta1, loss"
      ]
    },
    {
      "cell_type": "markdown",
      "metadata": {
        "id": "-Z31VFI782YY"
      },
      "source": [
        "Using the function `fit_linear` above, print the values `beta0`, `beta1` and `loss` for the linear model of price vs. number of rooms."
      ]
    },
    {
      "cell_type": "code",
      "execution_count": 11,
      "metadata": {
        "id": "3YqPtVCb82YY",
        "colab": {
          "base_uri": "https://localhost:8080/"
        },
        "outputId": "ba6ccbd7-992e-4fda-ecef-53b28b2d70f9"
      },
      "outputs": [
        {
          "output_type": "stream",
          "name": "stdout",
          "text": [
            "Beta0 =  -34.67062077643857  Beta1 =  9.10210898118031  Loss =  22061.879196211798\n"
          ]
        }
      ],
      "source": [
        "# TODO\n",
        "beta0, beta1, loss = fit_linear(x,y)\n",
        "print(\"Beta0 = \",beta0,\" Beta1 = \",beta1,\" Loss = \",loss)"
      ]
    },
    {
      "cell_type": "markdown",
      "metadata": {
        "id": "HgGsqX_782YY"
      },
      "source": [
        "Replot the scatter plot above, but now with the regression line.  You can create the regression line by creating points `yp` that are the predicted values for each value in `x`, according to our linear model. Plot as a line, not a scatter plot."
      ]
    },
    {
      "cell_type": "code",
      "execution_count": 12,
      "metadata": {
        "id": "lcRn_sBm82YY",
        "colab": {
          "base_uri": "https://localhost:8080/",
          "height": 279
        },
        "outputId": "3d657f36-5fb1-48fd-b8a4-ba5927d055b9"
      },
      "outputs": [
        {
          "output_type": "display_data",
          "data": {
            "image/png": "[encoded data removed]",
            "text/plain": [
              "<Figure size 432x288 with 1 Axes>"
            ]
          },
          "metadata": {
            "needs_background": "light"
          }
        }
      ],
      "source": [
        "# TODO\n",
        "ypred = beta1*x + beta0\n",
        "\n",
        "plt.plot(x,y,'o')                    # Plot the data points\n",
        "plt.plot(x,ypred,'-',linewidth=3)  # Plot the regression line (the predicted values)\n",
        "plt.xlabel('Avg Number of Rooms in each Census Track')\n",
        "plt.ylabel('Price of the Houses')\n",
        "plt.grid(True)"
      ]
    },
    {
      "cell_type": "markdown",
      "metadata": {
        "id": "k4tKB1WB82YY"
      },
      "source": [
        "# Part 2:  Compare different dependent variables\n",
        "\n",
        "\n",
        "We next compute the squared loss for all the predictors and output the values in a table. Your table should look like the following, where each entry in the first column is the attribute name and the second column is the squared loss.\n",
        "\n",
        "    CRIM        XXXXX\n",
        "    ZN          XXXXX\n",
        "    INDUS       XXXXX\n",
        "    ...         ...\n",
        "\n",
        "You will need to write a loop. One option is to loop over the list of colunm names in the dataframe `df`.\n",
        "\n",
        "What variable does the best job predicting house price?"
      ]
    },
    {
      "cell_type": "code",
      "execution_count": 13,
      "metadata": {
        "id": "zgttKdBI82YY"
      },
      "outputs": [],
      "source": [
        "# TODO\n",
        "def fit_linear_all(x,y):\n",
        "    \"\"\"\n",
        "    Given vectors of data points (x,y), performs a fit for the linear model:\n",
        "       y = beta0 + beta1*x, \n",
        "    The function returns beta0, beta1, and loss, where loss is the sum-of-squares loss of.\n",
        "    \"\"\"\n",
        "    # TODO complete the following code\n",
        "    xm = np.mean(x)\n",
        "    ym = np.mean(y)\n",
        "    syx = np.mean((y-ym)*(x-xm))\n",
        "    sxx = np.mean((x-xm)**2)\n",
        "    syy = np.mean((y-ym)**2)\n",
        "    beta1 = syx/sxx\n",
        "    beta0 = ym - beta1*xm\n",
        "    yhat=beta0+beta1*x\n",
        "    loss = np.sum((y-yhat)**2)\n",
        "    \n",
        "    return loss"
      ]
    },
    {
      "cell_type": "code",
      "source": [
        "result = {}\n",
        "for i in df.columns[:-1]:\n",
        "  result[i] = fit_linear_all(df[i].values,y)\n",
        "final_result = pd.DataFrame.from_dict(result, orient='index', columns=['Squared Loss'])\n",
        "final_result"
      ],
      "metadata": {
        "id": "GCvdq50egv2-",
        "outputId": "162e1972-79a8-40a2-cb82-bd61c185bba5",
        "colab": {
          "base_uri": "https://localhost:8080/",
          "height": 452
        }
      },
      "execution_count": 14,
      "outputs": [
        {
          "output_type": "execute_result",
          "data": {
            "text/html": [
              "\n",
              "  <div id=\"df-987c3fb6-f45f-4183-9e6e-364edbb762c6\">\n",
              "    <div class=\"colab-df-container\">\n",
              "      <div>\n",
              "<style scoped>\n",
              "    .dataframe tbody tr th:only-of-type {\n",
              "        vertical-align: middle;\n",
              "    }\n",
              "\n",
              "    .dataframe tbody tr th {\n",
              "        vertical-align: top;\n",
              "    }\n",
              "\n",
              "    .dataframe thead th {\n",
              "        text-align: right;\n",
              "    }\n",
              "</style>\n",
              "<table border=\"1\" class=\"dataframe\">\n",
              "  <thead>\n",
              "    <tr style=\"text-align: right;\">\n",
              "      <th></th>\n",
              "      <th>Squared Loss</th>\n",
              "    </tr>\n",
              "  </thead>\n",
              "  <tbody>\n",
              "    <tr>\n",
              "      <th>CRIM</th>\n",
              "      <td>36275.512356</td>\n",
              "    </tr>\n",
              "    <tr>\n",
              "      <th>ZN</th>\n",
              "      <td>37166.558224</td>\n",
              "    </tr>\n",
              "    <tr>\n",
              "      <th>INDUS</th>\n",
              "      <td>32721.108150</td>\n",
              "    </tr>\n",
              "    <tr>\n",
              "      <th>CHAS</th>\n",
              "      <td>41404.216144</td>\n",
              "    </tr>\n",
              "    <tr>\n",
              "      <th>NOX</th>\n",
              "      <td>34916.169908</td>\n",
              "    </tr>\n",
              "    <tr>\n",
              "      <th>RM</th>\n",
              "      <td>22061.879196</td>\n",
              "    </tr>\n",
              "    <tr>\n",
              "      <th>AGE</th>\n",
              "      <td>36646.534350</td>\n",
              "    </tr>\n",
              "    <tr>\n",
              "      <th>DIS</th>\n",
              "      <td>40048.048843</td>\n",
              "    </tr>\n",
              "    <tr>\n",
              "      <th>RAD</th>\n",
              "      <td>36495.154812</td>\n",
              "    </tr>\n",
              "    <tr>\n",
              "      <th>TAX</th>\n",
              "      <td>33338.961320</td>\n",
              "    </tr>\n",
              "    <tr>\n",
              "      <th>PTRATIO</th>\n",
              "      <td>31702.013207</td>\n",
              "    </tr>\n",
              "    <tr>\n",
              "      <th>B</th>\n",
              "      <td>37966.409179</td>\n",
              "    </tr>\n",
              "    <tr>\n",
              "      <th>LSTAT</th>\n",
              "      <td>19472.381418</td>\n",
              "    </tr>\n",
              "  </tbody>\n",
              "</table>\n",
              "</div>\n",
              "      <button class=\"colab-df-convert\" onclick=\"convertToInteractive('df-987c3fb6-f45f-4183-9e6e-364edbb762c6')\"\n",
              "              title=\"Convert this dataframe to an interactive table.\"\n",
              "              style=\"display:none;\">\n",
              "        \n",
              "  <svg xmlns=\"http://www.w3.org/2000/svg\" height=\"24px\"viewBox=\"0 0 24 24\"\n",
              "       width=\"24px\">\n",
              "    <path d=\"M0 0h24v24H0V0z\" fill=\"none\"/>\n",
              "    <path d=\"M18.56 5.44l.94 2.06.94-2.06 2.06-.94-2.06-.94-.94-2.06-.94 2.06-2.06.94zm-11 1L8.5 8.5l.94-2.06 2.06-.94-2.06-.94L8.5 2.5l-.94 2.06-2.06.94zm10 10l.94 2.06.94-2.06 2.06-.94-2.06-.94-.94-2.06-.94 2.06-2.06.94z\"/><path d=\"M17.41 7.96l-1.37-1.37c-.4-.4-.92-.59-1.43-.59-.52 0-1.04.2-1.43.59L10.3 9.45l-7.72 7.72c-.78.78-.78 2.05 0 2.83L4 21.41c.39.39.9.59 1.41.59.51 0 1.02-.2 1.41-.59l7.78-7.78 2.81-2.81c.8-.78.8-2.07 0-2.86zM5.41 20L4 18.59l7.72-7.72 1.47 1.35L5.41 20z\"/>\n",
              "  </svg>\n",
              "      </button>\n",
              "      \n",
              "  <style>\n",
              "    .colab-df-container {\n",
              "      display:flex;\n",
              "      flex-wrap:wrap;\n",
              "      gap: 12px;\n",
              "    }\n",
              "\n",
              "    .colab-df-convert {\n",
              "      background-color: #E8F0FE;\n",
              "      border: none;\n",
              "      border-radius: 50%;\n",
              "      cursor: pointer;\n",
              "      display: none;\n",
              "      fill: #1967D2;\n",
              "      height: 32px;\n",
              "      padding: 0 0 0 0;\n",
              "      width: 32px;\n",
              "    }\n",
              "\n",
              "    .colab-df-convert:hover {\n",
              "      background-color: #E2EBFA;\n",
              "      box-shadow: 0px 1px 2px rgba(60, 64, 67, 0.3), 0px 1px 3px 1px rgba(60, 64, 67, 0.15);\n",
              "      fill: #174EA6;\n",
              "    }\n",
              "\n",
              "    [theme=dark] .colab-df-convert {\n",
              "      background-color: #3B4455;\n",
              "      fill: #D2E3FC;\n",
              "    }\n",
              "\n",
              "    [theme=dark] .colab-df-convert:hover {\n",
              "      background-color: #434B5C;\n",
              "      box-shadow: 0px 1px 3px 1px rgba(0, 0, 0, 0.15);\n",
              "      filter: drop-shadow(0px 1px 2px rgba(0, 0, 0, 0.3));\n",
              "      fill: #FFFFFF;\n",
              "    }\n",
              "  </style>\n",
              "\n",
              "      <script>\n",
              "        const buttonEl =\n",
              "          document.querySelector('#df-987c3fb6-f45f-4183-9e6e-364edbb762c6 button.colab-df-convert');\n",
              "        buttonEl.style.display =\n",
              "          google.colab.kernel.accessAllowed ? 'block' : 'none';\n",
              "\n",
              "        async function convertToInteractive(key) {\n",
              "          const element = document.querySelector('#df-987c3fb6-f45f-4183-9e6e-364edbb762c6');\n",
              "          const dataTable =\n",
              "            await google.colab.kernel.invokeFunction('convertToInteractive',\n",
              "                                                     [key], {});\n",
              "          if (!dataTable) return;\n",
              "\n",
              "          const docLinkHtml = 'Like what you see? Visit the ' +\n",
              "            '<a target=\"_blank\" href=https://colab.research.google.com/notebooks/data_table.ipynb>data table notebook</a>'\n",
              "            + ' to learn more about interactive tables.';\n",
              "          element.innerHTML = '';\n",
              "          dataTable['output_type'] = 'display_data';\n",
              "          await google.colab.output.renderOutput(dataTable, element);\n",
              "          const docLink = document.createElement('div');\n",
              "          docLink.innerHTML = docLinkHtml;\n",
              "          element.appendChild(docLink);\n",
              "        }\n",
              "      </script>\n",
              "    </div>\n",
              "  </div>\n",
              "  "
            ],
            "text/plain": [
              "         Squared Loss\n",
              "CRIM     36275.512356\n",
              "ZN       37166.558224\n",
              "INDUS    32721.108150\n",
              "CHAS     41404.216144\n",
              "NOX      34916.169908\n",
              "RM       22061.879196\n",
              "AGE      36646.534350\n",
              "DIS      40048.048843\n",
              "RAD      36495.154812\n",
              "TAX      33338.961320\n",
              "PTRATIO  31702.013207\n",
              "B        37966.409179\n",
              "LSTAT    19472.381418"
            ]
          },
          "metadata": {},
          "execution_count": 14
        }
      ]
    },
    {
      "cell_type": "markdown",
      "source": [
        "## According to the errors in above table we can say that <b>LSTAT</b> does the best job of predicting house prices."
      ],
      "metadata": {
        "id": "4X8VePGV80i6"
      }
    },
    {
      "cell_type": "markdown",
      "source": [
        "**TODO:** Describe in words the meaning of the most predictive variable for housing price. You might need to do some Googling to figure out what it means. "
      ],
      "metadata": {
        "id": "MEhPnx9lAtb_"
      }
    },
    {
      "cell_type": "markdown",
      "metadata": {
        "id": "XjN9H2pa82YZ"
      },
      "source": [
        "# Part 3:  Compare different loss functions\n",
        "\n",
        "## A Brute force algorithm for squared loss\n",
        "\n",
        "Your code in `fit_linear` relies on the closed form expressions for the optimal $\\beta_0$ and $\\beta_1$, which we derived in class. However, if you did not know these formulas, you could have approximately minimized the loss function by brute force searching over a grid of possible values for $\\beta_0$ and $\\beta_1$. This idea was suggested by a student in our class. \n",
        "\n",
        "For example, we could try out all combinations of parameters where $\\beta_0$ is in `np.arange(-50,50,1)` and $\\beta_1$ is in `np.arange(-10,10,.1)`"
      ]
    },
    {
      "cell_type": "markdown",
      "metadata": {
        "id": "_3wMpT1b82YZ"
      },
      "source": [
        "Write a function which takes this approach to find a $\\beta_0$ and $\\beta_1$ which approximately minimize the squared loss: $\\sum_{i=1}^n (y_i - \\beta_0 - \\beta_1 x)^2$"
      ]
    },
    {
      "cell_type": "code",
      "source": [
        "beta0 = np.random.rand()\n",
        "beta1 = np.random.rand()\n",
        "x = (x-x.mean())/x.std()\n",
        "\n",
        "def predict(x, beta0, beta1):\n",
        "    return beta0 + beta1*x\n",
        "\n",
        "def loss(y, ypred):\n",
        "    return np.sum((y-ypred)**2)\n",
        "\n",
        "def gradient(y, ypred,x):\n",
        "    grad_beta0 = np.mean((ypred-y)*1)\n",
        "    grad_beta1 = np.mean((ypred-y)*x)\n",
        "    \n",
        "    return grad_beta0, grad_beta1\n",
        "\n",
        "def update_param(beta0, beta1, grad_beta0, grad_beta1, alpha):\n",
        "    new_beta0 = beta0 - alpha*grad_beta0\n",
        "    new_beta1 = beta1 - alpha*grad_beta1\n",
        "    \n",
        "    return new_beta0, new_beta1\n",
        "\n",
        "num_iter = 1000\n",
        "alpha = 0.01\n",
        "\n",
        "J_list = []\n",
        "\n",
        "for i in range(num_iter):\n",
        "    ypred = predict(x, beta0, beta1)\n",
        "    J = loss(y,ypred)\n",
        "    J_list.append(J)\n",
        "    \n",
        "    grad_beta0, grad_beta1 = gradient(y,ypred,x)\n",
        "    beta0, beta1 = update_param(beta0,beta1,grad_beta0, grad_beta1, alpha)\n",
        "\n",
        "\n",
        "ypred = beta1*x + beta0\n",
        "\n",
        "plt.plot(x,y,'o')                    # Plot the data points\n",
        "plt.plot(x,ypred,'-',linewidth=3)  # Plot the regression line (the predicted values)\n",
        "plt.xlabel('Avg Number of Rooms in each Census Track')\n",
        "plt.ylabel('Price of the Houses')\n",
        "plt.grid(True)"
      ],
      "metadata": {
        "id": "m_2kNGU3YoX8",
        "outputId": "65a510f8-4f99-4a25-a6c1-69ee7fb54e09",
        "colab": {
          "base_uri": "https://localhost:8080/",
          "height": 279
        }
      },
      "execution_count": 19,
      "outputs": [
        {
          "output_type": "display_data",
          "data": {
            "image/png": "[encoded data removed]",
            "text/plain": [
              "<Figure size 432x288 with 1 Axes>"
            ]
          },
          "metadata": {
            "needs_background": "light"
          }
        }
      ]
    },
    {
      "cell_type": "code",
      "source": [
        "x_1 = df['LSTAT'].values\n",
        "beta0, beta1, loss = fit_linear(x_1,y)\n",
        "print(\"Loss  = \",loss)\n",
        "ypred = beta1*x + beta0\n",
        "\n",
        "plt.plot(x,y,'o')                    # Plot the data points\n",
        "plt.plot(x,ypred,'-',linewidth=3)  # Plot the regression line (the predicted values)\n",
        "plt.xlabel('Avg Number of Rooms in each Census Track')\n",
        "plt.ylabel('Price of the Houses')\n",
        "plt.grid(True)"
      ],
      "metadata": {
        "id": "AeccHdxMaaUT",
        "outputId": "e8cacbcb-4365-4357-89df-a6415e298274",
        "colab": {
          "base_uri": "https://localhost:8080/",
          "height": 296
        }
      },
      "execution_count": 22,
      "outputs": [
        {
          "output_type": "stream",
          "name": "stdout",
          "text": [
            "Loss  =  19472.38141832644\n"
          ]
        },
        {
          "output_type": "display_data",
          "data": {
            "image/png": "[encoded data removed]",
            "text/plain": [
              "<Figure size 432x288 with 1 Axes>"
            ]
          },
          "metadata": {
            "needs_background": "light"
          }
        }
      ]
    },
    {
      "cell_type": "code",
      "source": [
        "beta0 = np.random.rand()\n",
        "beta1 = np.random.rand()\n",
        "x_new = (x_1-x_1.mean())/x_1.std()\n",
        "\n",
        "def predict(x, beta0, beta1):\n",
        "    return beta0 + beta1*x\n",
        "\n",
        "def loss(y, ypred):\n",
        "    return np.sum((y-ypred)**2)\n",
        "\n",
        "def gradient(y, ypred,x):\n",
        "    grad_beta0 = np.mean((ypred-y)*1)\n",
        "    grad_beta1 = np.mean((ypred-y)*x)\n",
        "    \n",
        "    return grad_beta0, grad_beta1\n",
        "\n",
        "def update_param(beta0, beta1, grad_beta0, grad_beta1, alpha):\n",
        "    new_beta0 = beta0 - alpha*grad_beta0\n",
        "    new_beta1 = beta1 - alpha*grad_beta1\n",
        "    \n",
        "    return new_beta0, new_beta1\n",
        "\n",
        "num_iter = 1000\n",
        "alpha = 0.01\n",
        "\n",
        "J_list = []\n",
        "\n",
        "for i in range(num_iter):\n",
        "    ypred = predict(x_new, beta0, beta1)\n",
        "    J = loss(y,ypred)\n",
        "    J_list.append(J)\n",
        "    \n",
        "    grad_beta0, grad_beta1 = gradient(y,ypred,x_new)\n",
        "    beta0, beta1 = update_param(beta0,beta1,grad_beta0, grad_beta1, alpha)\n",
        "\n",
        "\n",
        "ypred = beta1*x_new + beta0\n",
        "\n",
        "plt.plot(x_new,y,'o')                    # Plot the data points\n",
        "plt.plot(x_new,ypred,'-',linewidth=3)  # Plot the regression line (the predicted values)\n",
        "plt.xlabel('Avg Number of Rooms in each Census Track')\n",
        "plt.ylabel('Price of the Houses')\n",
        "plt.grid(True)\n"
      ],
      "metadata": {
        "id": "QABXQLwba51R",
        "outputId": "9f2a3c64-f69b-4a2e-9470-c34d30e1ffc0",
        "colab": {
          "base_uri": "https://localhost:8080/",
          "height": 279
        }
      },
      "execution_count": 24,
      "outputs": [
        {
          "output_type": "display_data",
          "data": {
            "image/png": "[encoded data removed]",
            "text/plain": [
              "<Figure size 432x288 with 1 Axes>"
            ]
          },
          "metadata": {
            "needs_background": "light"
          }
        }
      ]
    },
    {
      "cell_type": "code",
      "execution_count": null,
      "metadata": {
        "id": "xM5-ccw382YZ"
      },
      "outputs": [],
      "source": [
        "def fit_approx(x,y):\n",
        "    \"\"\"\n",
        "    Given vectors of data points (x,y), performs an *approximate* fit for the linear model:\n",
        "       y = beta0 + beta1*x, \n",
        "    under the sum-of-squares loss. The min_loss returned is the lost of the best beta0 and beta1 you found.\n",
        "    \"\"\"\n",
        "    # TODO complete the following code\n",
        "    beta0 = np.arange(-50,50,1)\n",
        "    beta1 = np.arange(-10,10,1)\n",
        "    min_loss = \n",
        "\n",
        "    return beta0, beta1, min_loss"
      ]
    },
    {
      "cell_type": "markdown",
      "metadata": {
        "id": "L7xf8hw082YZ"
      },
      "source": [
        "Compare the output of `fit_approx` and `fit_linear` with `y` being `PRICE` and `x` being the `LSTAT` variable from our dataset. You should do so:\n",
        "* quantitatively, by printing the loss that each approach achieves\n",
        "* and visually, by plotting the different fit lines obtained."
      ]
    },
    {
      "cell_type": "markdown",
      "metadata": {
        "id": "spb3y0i882YZ"
      },
      "source": [
        "## Extending to different loss functions\n",
        "\n",
        "---\n",
        "\n",
        "One benefit of the above approach is that is easily extends to different loss funtions. Write functions which find an approximately optimal $\\beta_0$ and $\\beta_1$ for\n",
        "* minimizing the $\\ell_1$ (least absolute deviations) loss: $\\sum_{i=1}^n |y_i - \\beta_0 - \\beta_1 x|$ \n",
        "* minimizing the $\\ell_\\infty$ (max) loss: $\\max_i |y_i - \\beta_0 - \\beta_1 x|$\n"
      ]
    },
    {
      "cell_type": "code",
      "execution_count": null,
      "metadata": {
        "id": "pu5H4-pM82YZ"
      },
      "outputs": [],
      "source": [
        "def fit_approx_l1(x,y):\n",
        "    \"\"\"\n",
        "    Given vectors of data points (x,y), performs an *approximate* fit for the linear model:\n",
        "       y = beta0 + beta1*x, \n",
        "    under the least absolute deviations loss.\n",
        "    \"\"\"\n",
        "    # TODO complete the following code\n",
        "    # beta0 = ...\n",
        "    # beta1 = ...\n",
        "    # min_loss = ...\n",
        "    \n",
        "    return beta0, beta1, min_loss"
      ]
    },
    {
      "cell_type": "code",
      "execution_count": null,
      "metadata": {
        "id": "_8g0HgL582YZ"
      },
      "outputs": [],
      "source": [
        "def fit_approx_max(x,y):\n",
        "    \"\"\"\n",
        "    Given vectors of data points (x,y), performs an *approximate* fit for the linear model:\n",
        "       y = beta0 + beta1*x, \n",
        "    under the max loss.\n",
        "    \"\"\"\n",
        "    # TODO complete the following code\n",
        "    # beta0 = ...\n",
        "    # beta1 = ...\n",
        "    # min_loss = ...\n",
        "    \n",
        "    return beta0, beta1, min_loss"
      ]
    },
    {
      "cell_type": "markdown",
      "metadata": {
        "id": "Oi444lua82YZ"
      },
      "source": [
        "Use your algorithm to obtain 3 different linear fits for `PRICE` with predictor variable `LSTAT`, one for squared loss, one for $\\ell_1$ loss, and one for $\\ell_\\infty$ loss. Plot the linear fits (along with the data scatter plot) on a single figure and use a legend to indicate which fit corresponds to which loss."
      ]
    },
    {
      "cell_type": "code",
      "execution_count": null,
      "metadata": {
        "id": "_MqNQ1Lo82YZ"
      },
      "outputs": [],
      "source": [
        ""
      ]
    }
  ],
  "metadata": {
    "anaconda-cloud": {},
    "kernelspec": {
      "display_name": "Python 3",
      "language": "python",
      "name": "python3"
    },
    "language_info": {
      "codemirror_mode": {
        "name": "ipython",
        "version": 3
      },
      "file_extension": ".py",
      "mimetype": "text/x-python",
      "name": "python",
      "nbconvert_exporter": "python",
      "pygments_lexer": "ipython3",
      "version": "3.7.4"
    },
    "colab": {
      "name": "lab1.ipynb",
      "provenance": [],
      "collapsed_sections": [],
      "include_colab_link": true
    }
  },
  "nbformat": 4,
  "nbformat_minor": 0
}