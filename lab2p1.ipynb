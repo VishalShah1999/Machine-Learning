{
  "cells": [
    {
      "cell_type": "markdown",
      "metadata": {
        "id": "view-in-github",
        "colab_type": "text"
      },
      "source": [
        "<a href=\"https://colab.research.google.com/github/VishalShah1999/Machine-Learning/blob/main/lab2p1.ipynb\" target=\"_parent\"><img src=\"https://colab.research.google.com/assets/colab-badge.svg\" alt=\"Open In Colab\"/></a>"
      ]
    },
    {
      "cell_type": "markdown",
      "metadata": {
        "id": "Wu1NODxh7ipW"
      },
      "source": [
        "# Multiple Linear Regression for Robot Calibration\n",
        "\n",
        "In this lab, we will illustrate the use of multiple linear regression for calibrating robot control.  In addition to reviewing the concepts in the multiple linear regression demo `demo_diabetes.ipynb`, you will see how to use multiple linear regression for time series data -- an important concept in dynamical systems such as robotics.\n",
        "\n",
        "The robot data for the lab is taken generously from the TU Dortmund's [Multiple Link Robot Arms Project](https://rst.etit.tu-dortmund.de/en/forschung/robotik/leichtbau/details-tudor/).  As part of the project, they have created an excellent public dataset: [MERIt](https://rst.etit.tu-dortmund.de/en/forschung/robotik/leichtbau/details-tudor/#c11560) -- A Multi-Elastic-Link Robot Identification Dataset that can be used for understanding robot dynamics.  The data is from a three link robot:\n",
        "\n",
        "<img src=\"https://rst.etit.tu-dortmund.de/storages/rst-etit/r/Media_Forschung/Robotik/Leichtbau/TUDORBild.png\" height=\"200\" width=\"200\">\n",
        "\n",
        "\n",
        "We will focus on predicting the current **electrical draw** into one of the joint motors as a function of the robot motion. This is just one of many parameters that you might want to build an ML model to predict.  For example, it might be part of a larger system to predict the overall robot power consumption."
      ]
    },
    {
      "cell_type": "markdown",
      "metadata": {
        "id": "ijan3pKh7ipY"
      },
      "source": [
        "## Load and Visualize the Data\n",
        "First, import the modules we will need."
      ]
    },
    {
      "cell_type": "code",
      "execution_count": 1,
      "metadata": {
        "id": "lOtI0NEX7ipY"
      },
      "outputs": [],
      "source": [
        "import pandas as pd\n",
        "import numpy as np\n",
        "import matplotlib\n",
        "import matplotlib.pyplot as plt\n",
        "%matplotlib inline"
      ]
    },
    {
      "cell_type": "markdown",
      "metadata": {
        "id": "OsiOAv4P7ipY"
      },
      "source": [
        "The full MERIt dataset can be obtained from the [MERIt site](https://rst.etit.tu-dortmund.de/en/forschung/robotik/leichtbau/details-tudor/#c11560).  But, this dataset is large.  Included in the course repository are two of the ten experiments.  Each experiments corresonds to 80 seconds of recorded motion.  We will use the following files:\n",
        "* [exp1.csv](https://github.com/cpmusco/machinelearning2022/blob/master/data/exp1.csv) for training\n",
        "* [exp2.csv](https://github.com/cpmusco/machinelearning2022/blob/master/data/exp2.csv) for test\n",
        "\n",
        "Below, I have supplied the column headers in the `names` array.  Use the `pd.read_csv` command to load the data. You may wich to refer to the first demo in the class where we used this fucntion. You can load the data directly from the following urls `https://github.com/cpmusco/machinelearning2022/blob/master/data/exp1.csv?raw=true` and `https://github.com/cpmusco/machinelearning2022/blob/master/data/exp2.csv?raw=true`."
      ]
    },
    {
      "cell_type": "code",
      "execution_count": 4,
      "metadata": {
        "id": "nHVbcdCU7ipY"
      },
      "outputs": [],
      "source": [
        "names =[\n",
        "    't',                                  # Time (secs)\n",
        "    'q1', 'q2', 'q3',                     # Joint angle   (rads)\n",
        "    'dq1', 'dq2', 'dq3',                  # Joint velocity (rads/sec)\n",
        "    'I1', 'I2', 'I3',                     # Motor current (amp)\n",
        "    'eps21', 'eps22', 'eps31', 'eps32',   # Strain gauge measurements ($\\mu$m /m )\n",
        "    'ddq1', 'ddq2', 'ddq3'                # Joint accelerations (rad/sec^2)\n",
        "]\n",
        "# TODO \n",
        "dftrain = pd.read_csv('https://raw.githubusercontent.com/VishalShah1999/Machine-Learning/main/exp1.csv', index_col=0, names=names)"
      ]
    },
    {
      "cell_type": "markdown",
      "metadata": {
        "id": "bLIhARhV7ipY"
      },
      "source": [
        "Print the first six lines of the test and train dataframes and manually check that they match the first rows of the csv file."
      ]
    },
    {
      "cell_type": "code",
      "execution_count": 5,
      "metadata": {
        "id": "LwU2Nxpp7ipZ",
        "colab": {
          "base_uri": "https://localhost:8080/",
          "height": 412
        },
        "outputId": "9893c98a-05af-4c4c-f658-8aa6651235ee"
      },
      "outputs": [
        {
          "output_type": "execute_result",
          "data": {
            "text/html": [
              "\n",
              "  <div id=\"df-7cc2d854-b174-45ac-ab65-405792e82944\">\n",
              "    <div class=\"colab-df-container\">\n",
              "      <div>\n",
              "<style scoped>\n",
              "    .dataframe tbody tr th:only-of-type {\n",
              "        vertical-align: middle;\n",
              "    }\n",
              "\n",
              "    .dataframe tbody tr th {\n",
              "        vertical-align: top;\n",
              "    }\n",
              "\n",
              "    .dataframe thead th {\n",
              "        text-align: right;\n",
              "    }\n",
              "</style>\n",
              "<table border=\"1\" class=\"dataframe\">\n",
              "  <thead>\n",
              "    <tr style=\"text-align: right;\">\n",
              "      <th></th>\n",
              "      <th>q1</th>\n",
              "      <th>q2</th>\n",
              "      <th>q3</th>\n",
              "      <th>dq1</th>\n",
              "      <th>dq2</th>\n",
              "      <th>dq3</th>\n",
              "      <th>I1</th>\n",
              "      <th>I2</th>\n",
              "      <th>I3</th>\n",
              "      <th>eps21</th>\n",
              "      <th>eps22</th>\n",
              "      <th>eps31</th>\n",
              "      <th>eps32</th>\n",
              "      <th>ddq1</th>\n",
              "      <th>ddq2</th>\n",
              "      <th>ddq3</th>\n",
              "    </tr>\n",
              "    <tr>\n",
              "      <th>t</th>\n",
              "      <th></th>\n",
              "      <th></th>\n",
              "      <th></th>\n",
              "      <th></th>\n",
              "      <th></th>\n",
              "      <th></th>\n",
              "      <th></th>\n",
              "      <th></th>\n",
              "      <th></th>\n",
              "      <th></th>\n",
              "      <th></th>\n",
              "      <th></th>\n",
              "      <th></th>\n",
              "      <th></th>\n",
              "      <th></th>\n",
              "      <th></th>\n",
              "    </tr>\n",
              "  </thead>\n",
              "  <tbody>\n",
              "    <tr>\n",
              "      <th>0.00</th>\n",
              "      <td>-0.000007</td>\n",
              "      <td>2.4958</td>\n",
              "      <td>-1.1345</td>\n",
              "      <td>-7.882100e-21</td>\n",
              "      <td>-4.940656e-321</td>\n",
              "      <td>3.913100e-29</td>\n",
              "      <td>-0.081623</td>\n",
              "      <td>-0.40812</td>\n",
              "      <td>-0.30609</td>\n",
              "      <td>-269.25</td>\n",
              "      <td>-113.20</td>\n",
              "      <td>3.5918</td>\n",
              "      <td>1.57860</td>\n",
              "      <td>-9.904900e-19</td>\n",
              "      <td>-6.210306e-319</td>\n",
              "      <td>4.917400e-27</td>\n",
              "    </tr>\n",
              "    <tr>\n",
              "      <th>0.01</th>\n",
              "      <td>-0.000007</td>\n",
              "      <td>2.4958</td>\n",
              "      <td>-1.1345</td>\n",
              "      <td>-2.258200e-21</td>\n",
              "      <td>-4.940656e-321</td>\n",
              "      <td>2.626200e-31</td>\n",
              "      <td>-0.037411</td>\n",
              "      <td>-0.37241</td>\n",
              "      <td>-0.26698</td>\n",
              "      <td>-270.91</td>\n",
              "      <td>-116.05</td>\n",
              "      <td>1.4585</td>\n",
              "      <td>-1.73980</td>\n",
              "      <td>4.248100e-19</td>\n",
              "      <td>-1.766878e-319</td>\n",
              "      <td>-1.381100e-27</td>\n",
              "    </tr>\n",
              "    <tr>\n",
              "      <th>0.02</th>\n",
              "      <td>-0.000007</td>\n",
              "      <td>2.4958</td>\n",
              "      <td>-1.1345</td>\n",
              "      <td>-6.469800e-22</td>\n",
              "      <td>-4.940656e-321</td>\n",
              "      <td>1.762500e-33</td>\n",
              "      <td>-0.066319</td>\n",
              "      <td>-0.40302</td>\n",
              "      <td>-0.31459</td>\n",
              "      <td>-269.25</td>\n",
              "      <td>-112.97</td>\n",
              "      <td>3.5918</td>\n",
              "      <td>0.86753</td>\n",
              "      <td>3.233800e-19</td>\n",
              "      <td>-4.990557e-320</td>\n",
              "      <td>-4.117300e-28</td>\n",
              "    </tr>\n",
              "    <tr>\n",
              "      <th>0.03</th>\n",
              "      <td>-0.000007</td>\n",
              "      <td>2.4958</td>\n",
              "      <td>-1.1345</td>\n",
              "      <td>-1.853600e-22</td>\n",
              "      <td>-4.940656e-321</td>\n",
              "      <td>1.182800e-35</td>\n",
              "      <td>-0.068020</td>\n",
              "      <td>-0.43703</td>\n",
              "      <td>-0.28398</td>\n",
              "      <td>-269.97</td>\n",
              "      <td>-114.39</td>\n",
              "      <td>1.6956</td>\n",
              "      <td>-0.08059</td>\n",
              "      <td>1.500500e-19</td>\n",
              "      <td>-1.394253e-320</td>\n",
              "      <td>-1.173100e-28</td>\n",
              "    </tr>\n",
              "    <tr>\n",
              "      <th>0.04</th>\n",
              "      <td>-0.000007</td>\n",
              "      <td>2.4958</td>\n",
              "      <td>-1.1345</td>\n",
              "      <td>-5.310600e-23</td>\n",
              "      <td>-4.940656e-321</td>\n",
              "      <td>-5.270900e-03</td>\n",
              "      <td>-0.052715</td>\n",
              "      <td>-0.40472</td>\n",
              "      <td>-0.30779</td>\n",
              "      <td>-269.97</td>\n",
              "      <td>-114.15</td>\n",
              "      <td>3.1177</td>\n",
              "      <td>0.86753</td>\n",
              "      <td>5.932400e-20</td>\n",
              "      <td>-3.581976e-321</td>\n",
              "      <td>-3.770800e-01</td>\n",
              "    </tr>\n",
              "    <tr>\n",
              "      <th>0.05</th>\n",
              "      <td>-0.000007</td>\n",
              "      <td>2.4958</td>\n",
              "      <td>-1.1345</td>\n",
              "      <td>-1.521500e-23</td>\n",
              "      <td>-4.940656e-321</td>\n",
              "      <td>3.252600e-04</td>\n",
              "      <td>-0.088425</td>\n",
              "      <td>-0.42342</td>\n",
              "      <td>-0.29589</td>\n",
              "      <td>-269.25</td>\n",
              "      <td>-114.15</td>\n",
              "      <td>2.4066</td>\n",
              "      <td>-0.08059</td>\n",
              "      <td>2.164600e-20</td>\n",
              "      <td>-1.141292e-321</td>\n",
              "      <td>2.930300e-01</td>\n",
              "    </tr>\n",
              "  </tbody>\n",
              "</table>\n",
              "</div>\n",
              "      <button class=\"colab-df-convert\" onclick=\"convertToInteractive('df-7cc2d854-b174-45ac-ab65-405792e82944')\"\n",
              "              title=\"Convert this dataframe to an interactive table.\"\n",
              "              style=\"display:none;\">\n",
              "        \n",
              "  <svg xmlns=\"http://www.w3.org/2000/svg\" height=\"24px\"viewBox=\"0 0 24 24\"\n",
              "       width=\"24px\">\n",
              "    <path d=\"M0 0h24v24H0V0z\" fill=\"none\"/>\n",
              "    <path d=\"M18.56 5.44l.94 2.06.94-2.06 2.06-.94-2.06-.94-.94-2.06-.94 2.06-2.06.94zm-11 1L8.5 8.5l.94-2.06 2.06-.94-2.06-.94L8.5 2.5l-.94 2.06-2.06.94zm10 10l.94 2.06.94-2.06 2.06-.94-2.06-.94-.94-2.06-.94 2.06-2.06.94z\"/><path d=\"M17.41 7.96l-1.37-1.37c-.4-.4-.92-.59-1.43-.59-.52 0-1.04.2-1.43.59L10.3 9.45l-7.72 7.72c-.78.78-.78 2.05 0 2.83L4 21.41c.39.39.9.59 1.41.59.51 0 1.02-.2 1.41-.59l7.78-7.78 2.81-2.81c.8-.78.8-2.07 0-2.86zM5.41 20L4 18.59l7.72-7.72 1.47 1.35L5.41 20z\"/>\n",
              "  </svg>\n",
              "      </button>\n",
              "      \n",
              "  <style>\n",
              "    .colab-df-container {\n",
              "      display:flex;\n",
              "      flex-wrap:wrap;\n",
              "      gap: 12px;\n",
              "    }\n",
              "\n",
              "    .colab-df-convert {\n",
              "      background-color: #E8F0FE;\n",
              "      border: none;\n",
              "      border-radius: 50%;\n",
              "      cursor: pointer;\n",
              "      display: none;\n",
              "      fill: #1967D2;\n",
              "      height: 32px;\n",
              "      padding: 0 0 0 0;\n",
              "      width: 32px;\n",
              "    }\n",
              "\n",
              "    .colab-df-convert:hover {\n",
              "      background-color: #E2EBFA;\n",
              "      box-shadow: 0px 1px 2px rgba(60, 64, 67, 0.3), 0px 1px 3px 1px rgba(60, 64, 67, 0.15);\n",
              "      fill: #174EA6;\n",
              "    }\n",
              "\n",
              "    [theme=dark] .colab-df-convert {\n",
              "      background-color: #3B4455;\n",
              "      fill: #D2E3FC;\n",
              "    }\n",
              "\n",
              "    [theme=dark] .colab-df-convert:hover {\n",
              "      background-color: #434B5C;\n",
              "      box-shadow: 0px 1px 3px 1px rgba(0, 0, 0, 0.15);\n",
              "      filter: drop-shadow(0px 1px 2px rgba(0, 0, 0, 0.3));\n",
              "      fill: #FFFFFF;\n",
              "    }\n",
              "  </style>\n",
              "\n",
              "      <script>\n",
              "        const buttonEl =\n",
              "          document.querySelector('#df-7cc2d854-b174-45ac-ab65-405792e82944 button.colab-df-convert');\n",
              "        buttonEl.style.display =\n",
              "          google.colab.kernel.accessAllowed ? 'block' : 'none';\n",
              "\n",
              "        async function convertToInteractive(key) {\n",
              "          const element = document.querySelector('#df-7cc2d854-b174-45ac-ab65-405792e82944');\n",
              "          const dataTable =\n",
              "            await google.colab.kernel.invokeFunction('convertToInteractive',\n",
              "                                                     [key], {});\n",
              "          if (!dataTable) return;\n",
              "\n",
              "          const docLinkHtml = 'Like what you see? Visit the ' +\n",
              "            '<a target=\"_blank\" href=https://colab.research.google.com/notebooks/data_table.ipynb>data table notebook</a>'\n",
              "            + ' to learn more about interactive tables.';\n",
              "          element.innerHTML = '';\n",
              "          dataTable['output_type'] = 'display_data';\n",
              "          await google.colab.output.renderOutput(dataTable, element);\n",
              "          const docLink = document.createElement('div');\n",
              "          docLink.innerHTML = docLinkHtml;\n",
              "          element.appendChild(docLink);\n",
              "        }\n",
              "      </script>\n",
              "    </div>\n",
              "  </div>\n",
              "  "
            ],
            "text/plain": [
              "            q1      q2      q3  ...          ddq1           ddq2          ddq3\n",
              "t                               ...                                           \n",
              "0.00 -0.000007  2.4958 -1.1345  ... -9.904900e-19 -6.210306e-319  4.917400e-27\n",
              "0.01 -0.000007  2.4958 -1.1345  ...  4.248100e-19 -1.766878e-319 -1.381100e-27\n",
              "0.02 -0.000007  2.4958 -1.1345  ...  3.233800e-19 -4.990557e-320 -4.117300e-28\n",
              "0.03 -0.000007  2.4958 -1.1345  ...  1.500500e-19 -1.394253e-320 -1.173100e-28\n",
              "0.04 -0.000007  2.4958 -1.1345  ...  5.932400e-20 -3.581976e-321 -3.770800e-01\n",
              "0.05 -0.000007  2.4958 -1.1345  ...  2.164600e-20 -1.141292e-321  2.930300e-01\n",
              "\n",
              "[6 rows x 16 columns]"
            ]
          },
          "metadata": {},
          "execution_count": 5
        }
      ],
      "source": [
        "# TODO\n",
        "dftrain.head(6)"
      ]
    },
    {
      "cell_type": "markdown",
      "metadata": {
        "id": "Uv_Y2G-Q7ipZ"
      },
      "source": [
        "From the dataframe `dftrain`, extract the time values into a vector `t` and extract `I2`, the electrical current into the second joint. Place the electrical current in a vector `ytrain` and plot `ytrain` vs. `t`.   Label the axes with the units."
      ]
    },
    {
      "cell_type": "code",
      "execution_count": 11,
      "metadata": {
        "id": "Ey4oH7j47ipZ",
        "colab": {
          "base_uri": "https://localhost:8080/",
          "height": 497
        },
        "outputId": "fd16fe8b-99bb-462e-b859-18adac16e852"
      },
      "outputs": [
        {
          "output_type": "display_data",
          "data": {
            "image/png": "[encoded data removed]",
            "text/plain": [
              "<Figure size 720x576 with 1 Axes>"
            ]
          },
          "metadata": {
            "needs_background": "light"
          }
        }
      ],
      "source": [
        "# TODO\n",
        "ytrain = dftrain.I2.values\n",
        "t = dftrain.index.values\n",
        "\n",
        "plt.figure(figsize=(10,8))\n",
        "plt.plot(t,ytrain)\n",
        "plt.xlabel('Time (Second)')\n",
        "plt.ylabel('Motor current')\n",
        "plt.grid()"
      ]
    },
    {
      "cell_type": "markdown",
      "metadata": {
        "id": "EkSI21Qi7ipa"
      },
      "source": [
        "Use all the samples from the experiment 1 dataset to create the training data:\n",
        "* `ytrain`:  A vector of all the samples from the `I2` column\n",
        "* `Xtrain`:  A matrix of the data with the columns:  `['q2','dq2','eps21', 'eps22', 'eps31', 'eps32','ddq2']`"
      ]
    },
    {
      "cell_type": "code",
      "execution_count": 12,
      "metadata": {
        "id": "QrkUWNcr7ipa"
      },
      "outputs": [],
      "source": [
        "# TODO\n",
        "Xtrain = dftrain[['q2','dq2','eps21', 'eps22', 'eps31', 'eps32','ddq2']].values"
      ]
    },
    {
      "cell_type": "markdown",
      "metadata": {
        "id": "flm1rdhw7ipb"
      },
      "source": [
        "## Fit a Linear Model\n",
        "Write an function that, fits a linear model given a predictor matrix `X` and a vector of target values `y`. Your linear model should have an intercept. So, for our robot data, which has 7 predictor variables, the output should be a vector `beta` of length 8. The first entry should be the intercept, $\\beta_0$. **Hint**: You might want to use numpy's `concatenate` function and the `ones` function.\n",
        "\n",
        "Your function should find the optimal `beta` to minimize the squared loss. You should do so using the matrix equations discussed in class -- do not use any built in functions from e.g. Scikit Learn."
      ]
    },
    {
      "cell_type": "code",
      "execution_count": null,
      "metadata": {
        "id": "EwTNlV1T7ipb"
      },
      "outputs": [],
      "source": [
        "def fit_mult_linear(X,y):\n",
        "    \"\"\"\n",
        "    Given matrix of predictors X and target vector y fit for a multiple linear regression model under the squared loss.\n",
        "    \"\"\"\n",
        "    # TODO complete the following code\n",
        "    beta = \n",
        "    return beta"
      ]
    },
    {
      "cell_type": "markdown",
      "metadata": {
        "id": "l2LcZha87ipb"
      },
      "source": [
        "Train the model on the training data."
      ]
    },
    {
      "cell_type": "code",
      "execution_count": null,
      "metadata": {
        "id": "Kc8i_EOY7ipb"
      },
      "outputs": [],
      "source": [
        "# TODO"
      ]
    },
    {
      "cell_type": "markdown",
      "metadata": {
        "id": "by3mu0j67ipb"
      },
      "source": [
        "Using the trained model, compute `ytrain_pred`, the predicted current.  Plot `ytrain_pred` vs. time `t`.  On the same plot, plot the actual current `ytrain` vs. time `t`.  Create a legend for the plot."
      ]
    },
    {
      "cell_type": "code",
      "execution_count": null,
      "metadata": {
        "id": "F4A2KU1p7ipb"
      },
      "outputs": [],
      "source": [
        "# TODO\n",
        "# ytrain_pred = ...\n",
        "# plt.plot(...)"
      ]
    },
    {
      "cell_type": "markdown",
      "metadata": {
        "id": "KRQMR2Au7ipc"
      },
      "source": [
        "## Measure the Fit on an Indepedent Dataset\n",
        "\n",
        "Up to now, we have only tested the model on the same data on which it was trained.  In general, we need to test models on independent data to truly understand the models quality -- otherwise, we might overfit.  For this purpose, consider the data loaded from `exp2.csv`.  Compute the regression predicted values on this data and plot the predicted and actual values over time."
      ]
    },
    {
      "cell_type": "code",
      "execution_count": null,
      "metadata": {
        "id": "Wqu4SYHW7ipc"
      },
      "outputs": [],
      "source": [
        "# TODO"
      ]
    }
  ],
  "metadata": {
    "anaconda-cloud": {},
    "kernelspec": {
      "display_name": "Python 3",
      "language": "python",
      "name": "python3"
    },
    "language_info": {
      "codemirror_mode": {
        "name": "ipython",
        "version": 3
      },
      "file_extension": ".py",
      "mimetype": "text/x-python",
      "name": "python",
      "nbconvert_exporter": "python",
      "pygments_lexer": "ipython3",
      "version": "3.7.4"
    },
    "colab": {
      "name": "lab2p1.ipynb",
      "provenance": [],
      "collapsed_sections": [],
      "include_colab_link": true
    }
  },
  "nbformat": 4,
  "nbformat_minor": 0
}